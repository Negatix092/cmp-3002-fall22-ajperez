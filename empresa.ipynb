{
 "cells": [
  {
   "cell_type": "code",
   "execution_count": 47,
   "id": "ece6976a",
   "metadata": {},
   "outputs": [
    {
     "name": "stdout",
     "output_type": "stream",
     "text": [
      "Ingrese la cantidad de productos a gestionar: 5\n"
     ]
    }
   ],
   "source": [
    "diccionario = dict()#creo un diccionario vacio\n",
    "cantidadProductos = int(input(\"Ingrese la cantidad de productos a gestionar: \"))#solicito la cantidad de productos"
   ]
  },
  {
   "cell_type": "code",
   "execution_count": 48,
   "id": "e788d5e2",
   "metadata": {},
   "outputs": [
    {
     "name": "stdout",
     "output_type": "stream",
     "text": [
      "Ingrese el codigo del producto: Maleta\n",
      "Ingrese el stock inicial del producto: 2\n",
      "Ingrese el codigo del producto: Cartera\n",
      "Ingrese el stock inicial del producto: 3\n",
      "Ingrese el codigo del producto: Esferos\n",
      "Ingrese el stock inicial del producto: 0\n",
      "Ingrese el codigo del producto: Celular\n",
      "Ingrese el stock inicial del producto: 1\n",
      "Ingrese el codigo del producto: Computadora\n",
      "Ingrese el stock inicial del producto: 4\n"
     ]
    }
   ],
   "source": [
    "CodPro = []#arreglo que utilizo para guardar los codigos de los productos\n",
    "for i in range(0,cantidadProductos):#loop que utilizo para agregar la cantidad que el cliente desea al inventario inicial\n",
    "    Codigo = input(\"Ingrese el codigo del producto: \")\n",
    "    Stock = int(input(\"Ingrese el stock inicial del producto: \"))\n",
    "    CodPro.append(Codigo)#guardo el codigo ingresado, en orden, en mi arreglo auxiliar\n",
    "    diccionario[i] = Stock#guardo el stock del codigo ingresado, en el mismo orden, en mi diccionario"
   ]
  },
  {
   "cell_type": "code",
   "execution_count": 49,
   "id": "562340e3",
   "metadata": {},
   "outputs": [
    {
     "data": {
      "text/plain": [
       "{0: 2, 1: 3, 2: 0, 3: 1, 4: 4}"
      ]
     },
     "execution_count": 49,
     "metadata": {},
     "output_type": "execute_result"
    }
   ],
   "source": [
    "#Este es el diccionario antes de que haga la relacion Codigo-Stock. Es decir, solo tiene dentro de si el stock\n",
    "diccionario"
   ]
  },
  {
   "cell_type": "code",
   "execution_count": 50,
   "id": "1170e594",
   "metadata": {},
   "outputs": [
    {
     "data": {
      "text/plain": [
       "['Maleta', 'Cartera', 'Esferos', 'Celular', 'Computadora']"
      ]
     },
     "execution_count": 50,
     "metadata": {},
     "output_type": "execute_result"
    }
   ],
   "source": [
    "#Este es el arreglo auxiliar donde guarde, en el mismo orden que en mi diccionario, los codigos\n",
    "CodPro"
   ]
  },
  {
   "cell_type": "code",
   "execution_count": 51,
   "id": "fd0017e9",
   "metadata": {},
   "outputs": [],
   "source": [
    "#Hago este for para, de manera muy salvaje, cambiar las keys de mi diccionario y poner como keys a los codigos\n",
    "#que correspondan\n",
    "for i in range(0,cantidadProductos):\n",
    "    diccionario[CodPro[i]]=diccionario.pop(i)"
   ]
  },
  {
   "cell_type": "code",
   "execution_count": 52,
   "id": "a341cbe7",
   "metadata": {},
   "outputs": [
    {
     "data": {
      "text/plain": [
       "{'Maleta': 2, 'Cartera': 3, 'Esferos': 0, 'Celular': 1, 'Computadora': 4}"
      ]
     },
     "execution_count": 52,
     "metadata": {},
     "output_type": "execute_result"
    }
   ],
   "source": [
    "#Este es ya el diccionario que representa el inventario de la empresa. \n",
    "#Un diccionario se conforma por elementos clave/valor (key/value). \n",
    "#En el caso de la empresa, Codigo sera la clave y Stock sera su valor.\n",
    "diccionario"
   ]
  },
  {
   "cell_type": "code",
   "execution_count": 58,
   "id": "3c7f2b4a",
   "metadata": {},
   "outputs": [
    {
     "name": "stdout",
     "output_type": "stream",
     "text": [
      "\n",
      "bienvenido al inventario de su empresa\n",
      "\n",
      "------- Menu -------\n",
      "I. Ingreso de Stock\n",
      "E. Egreso de Stock\n",
      "P. Imprimir Inventario\n",
      "S. Salir\n",
      "\n",
      "Escoger opciones(I, E, P ó S): P\n",
      " \n",
      "Su inventario actualizado es:\n",
      "{'Maleta': 2, 'Cartera': 3, 'Esferos': 0, 'Celular': 1, 'Computadora': 4}\n",
      " \n",
      "------- Menu -------\n",
      "I. Ingreso de Stock\n",
      "E. Egreso de Stock\n",
      "P. Imprimir Inventario\n",
      "S. Salir\n",
      "\n",
      "Escoger opciones(I, E, P ó S): I\n",
      "Escriba el codigo: Esferos\n",
      "Escriba la cantidad a ingresar: 10\n",
      " \n",
      "Se actualizó el inventario. Volviendo al Menú Principal.\n",
      " \n",
      "------- Menu -------\n",
      "I. Ingreso de Stock\n",
      "E. Egreso de Stock\n",
      "P. Imprimir Inventario\n",
      "S. Salir\n",
      "\n",
      "Escoger opciones(I, E, P ó S): P\n",
      " \n",
      "Su inventario actualizado es:\n",
      "{'Maleta': 2, 'Cartera': 3, 'Esferos': 10, 'Celular': 1, 'Computadora': 4}\n",
      " \n",
      "------- Menu -------\n",
      "I. Ingreso de Stock\n",
      "E. Egreso de Stock\n",
      "P. Imprimir Inventario\n",
      "S. Salir\n",
      "\n",
      "Escoger opciones(I, E, P ó S): E\n",
      "Escriba el codigo: Galletas\n",
      " \n",
      "No se encontró dicho código. Volviendo al Menú Principal.\n",
      " \n",
      "------- Menu -------\n",
      "I. Ingreso de Stock\n",
      "E. Egreso de Stock\n",
      "P. Imprimir Inventario\n",
      "S. Salir\n",
      "\n",
      "Escoger opciones(I, E, P ó S): E\n",
      "Escriba el codigo: Esferos\n",
      "Escriba la cantidad a egresar: 2\n",
      " \n",
      "Se actualizó el inventario. Volviendo al Menú Principal.\n",
      " \n",
      "------- Menu -------\n",
      "I. Ingreso de Stock\n",
      "E. Egreso de Stock\n",
      "P. Imprimir Inventario\n",
      "S. Salir\n",
      "\n",
      "Escoger opciones(I, E, P ó S): P\n",
      " \n",
      "Su inventario actualizado es:\n",
      "{'Maleta': 2, 'Cartera': 3, 'Esferos': 8, 'Celular': 1, 'Computadora': 4}\n",
      " \n",
      "------- Menu -------\n",
      "I. Ingreso de Stock\n",
      "E. Egreso de Stock\n",
      "P. Imprimir Inventario\n",
      "S. Salir\n",
      "\n",
      "Escoger opciones(I, E, P ó S): S\n",
      " \n",
      "Salió del programa de su inventario.\n"
     ]
    }
   ],
   "source": [
    "def menu():\n",
    "    print(\"\")\n",
    "    print(\"bienvenido al inventario de su empresa\")\n",
    "    print(\"\")\n",
    "    \n",
    "    opcion = ''\n",
    "    while opcion != 'S':\n",
    "        print(\"------- Menu -------\")\n",
    "        print (\"I. Ingreso de Stock\")\n",
    "        print (\"E. Egreso de Stock\")\n",
    "        print (\"P. Imprimir Inventario\")\n",
    "        print (\"S. Salir\")\n",
    "        print (\"\")\n",
    "        opcion = input(\"Escoger opciones(I, E, P ó S): \")\n",
    "\n",
    "        if opcion == 'I':\n",
    "            codigo = input(\"Escriba el codigo: \")\n",
    "            \n",
    "            if codigo in diccionario:\n",
    "                cantidad = int(input(\"Escriba la cantidad a ingresar: \"))\n",
    "                print(\" \")\n",
    "                print(\"Se actualizó el inventario. Volviendo al Menú Principal.\")\n",
    "                diccionario[codigo]=diccionario[codigo]+cantidad\n",
    "                print(\" \")\n",
    "            else:\n",
    "                print(\" \")\n",
    "                print(\"No se encontró dicho código. Volviendo al Menú Principal.\")\n",
    "                print(\" \")\n",
    "\n",
    "        elif opcion == 'E':\n",
    "            codigo = input(\"Escriba el codigo: \")\n",
    "            \n",
    "            if codigo in diccionario:\n",
    "                cantidad = int(input(\"Escriba la cantidad a egresar: \"))\n",
    "                print(\" \")\n",
    "                print(\"Se actualizó el inventario. Volviendo al Menú Principal.\")\n",
    "                diccionario[codigo]=diccionario[codigo]-cantidad\n",
    "                print(\" \")\n",
    "            else:\n",
    "                print(\" \")\n",
    "                print(\"No se encontró dicho código. Volviendo al Menú Principal.\")\n",
    "                print(\" \")\n",
    "                \n",
    "        elif opcion == 'P':\n",
    "            print(\" \")\n",
    "            print(\"Su inventario actualizado es:\")\n",
    "            print(diccionario)\n",
    "            print(\" \")\n",
    "            \n",
    "        elif opcion == 'S':\n",
    "            print(\" \")\n",
    "            print(\"Salió del programa de su inventario.\")\n",
    "            \n",
    "        else:\n",
    "            print(\" \")\n",
    "            print(\"Opcion no válida. Volviendo al Menú Principal.\")\n",
    "            print(\" \")\n",
    "\n",
    "menu()"
   ]
  },
  {
   "cell_type": "code",
   "execution_count": null,
   "id": "a5043d61",
   "metadata": {},
   "outputs": [],
   "source": []
  }
 ],
 "metadata": {
  "kernelspec": {
   "display_name": "Python 3 (ipykernel)",
   "language": "python",
   "name": "python3"
  },
  "language_info": {
   "codemirror_mode": {
    "name": "ipython",
    "version": 3
   },
   "file_extension": ".py",
   "mimetype": "text/x-python",
   "name": "python",
   "nbconvert_exporter": "python",
   "pygments_lexer": "ipython3",
   "version": "3.9.7"
  }
 },
 "nbformat": 4,
 "nbformat_minor": 5
}
