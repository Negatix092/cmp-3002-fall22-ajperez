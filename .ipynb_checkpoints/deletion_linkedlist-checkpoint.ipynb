{
 "cells": [
  {
   "cell_type": "code",
   "execution_count": 1,
   "id": "c962a30c",
   "metadata": {},
   "outputs": [],
   "source": [
    "import time\n",
    "import pandas as pd\n",
    "import numpy as np\n",
    "import matplotlib.pyplot as plt\n",
    "%matplotlib inline  "
   ]
  },
  {
   "cell_type": "code",
   "execution_count": 7,
   "id": "0413a6f3",
   "metadata": {},
   "outputs": [],
   "source": [
    "class Node:\n",
    "    \"\"\"\n",
    "    Implementation of a node\n",
    "    \"\"\"\n",
    "    def __init__(self, val=None):\n",
    "        self.val = val\n",
    "        self.next_node = None\n",
    "    \n",
    "    def set_next_node(self, next_node):\n",
    "        self.next_node = next_node\n",
    "        \n",
    "class Singly_linked_list:\n",
    "    \"\"\"\n",
    "    Implementation of a singly linked list\n",
    "    \"\"\"\n",
    "    def __init__(self, head_node=None):\n",
    "        self.head_node = head_node\n",
    "        \n",
    "    def list_traversed(self):\n",
    "        node = self.head_node\n",
    "        while node:\n",
    "            print(node.val)\n",
    "            node = node.next_node\n",
    "            \n",
    "class Singly_linked_list(Singly_linked_list):\n",
    "    \n",
    "    #@timer_func\n",
    "    def insert_head(self, new_node):\n",
    "        # insert to the head\n",
    "        # A -> B -> null\n",
    "        # R -> A -> B -> null \n",
    "        new_node.set_next_node(self.head_node)\n",
    "        self.head_node = new_node\n",
    "        \n",
    "    #@timer_func\n",
    "    def insert_tail(self, new_node):\n",
    "        # insert to the tail\n",
    "        # A -> B -> null\n",
    "        # A -> B -> R -> null \n",
    "        node = self.head_node\n",
    "        prev = None\n",
    "        while node:\n",
    "            prev = node\n",
    "            node = node.next_node\n",
    "        prev.set_next_node(new_node)\n",
    "        \n",
    "    #@timer_func\n",
    "    def insert_middle(self, new_node, value):\n",
    "        # insert in the middle\n",
    "        # A -> B -> C -> null\n",
    "        # A -> B -> R -> C -> null\n",
    "        node = self.head_node\n",
    "        while node.val != value:\n",
    "            node = node.next_node\n",
    "        if node:\n",
    "            new_node.set_next_node(node.next_node)\n",
    "            node.set_next_node(new_node)\n",
    "        else:\n",
    "            self.insert_tail(new_node)\n",
    "            \n",
    "    def reverse(self):\n",
    "        node = self.head_node\n",
    "        prev = None\n",
    "        while node:\n",
    "            next_node = node.next_node\n",
    "            node.next_node = prev\n",
    "            prev = node\n",
    "            node = next_node\n",
    "        self.head_node = prev\n",
    "            \n",
    "    def delete(self, value):\n",
    "        prev = self.head_node\n",
    "        node = prev.next_node\n",
    "        \n",
    "        if prev.val == value:\n",
    "            self.head_node = prev.next_node\n",
    "            prev.set_next_node(None)\n",
    "            \n",
    "        else:\n",
    "            \n",
    "            while node.val != value:\n",
    "                prev = node\n",
    "                node = node.next_node\n",
    "                \n",
    "                if node == None:\n",
    "                    break\n",
    "                \n",
    "            if node:\n",
    "                prev.set_next_node(node.next_node)\n",
    "                node.set_next_node(None)\n",
    "            else:\n",
    "                print(\"No se encuentra un nodo con ese valor para borrar\")\n",
    "            \n",
    "            "
   ]
  },
  {
   "cell_type": "code",
   "execution_count": 8,
   "id": "25fdef52",
   "metadata": {},
   "outputs": [
    {
     "name": "stdout",
     "output_type": "stream",
     "text": [
      "1\n",
      "2\n",
      "3\n",
      "4\n",
      "5\n"
     ]
    }
   ],
   "source": [
    "m1 = Node(1)\n",
    "m2 = Node(2)\n",
    "m3 = Node(3)\n",
    "m4 = Node(4)\n",
    "m5 = Node(5)\n",
    "\n",
    "m1.set_next_node(m2)\n",
    "m2.set_next_node(m3)\n",
    "m3.set_next_node(m4)\n",
    "m4.set_next_node(m5)\n",
    "\n",
    "l1 = Singly_linked_list(m1)\n",
    "\n",
    "l1.list_traversed()"
   ]
  },
  {
   "cell_type": "code",
   "execution_count": 9,
   "id": "57c730ea",
   "metadata": {},
   "outputs": [
    {
     "name": "stdout",
     "output_type": "stream",
     "text": [
      "1\n",
      "2\n",
      "3\n",
      "4\n"
     ]
    }
   ],
   "source": [
    "l1.delete(5)\n",
    "l1.list_traversed()"
   ]
  },
  {
   "cell_type": "code",
   "execution_count": 10,
   "id": "b317b765",
   "metadata": {},
   "outputs": [],
   "source": [
    "from time import time\n",
    "  \n",
    "def timer_func(func):\n",
    "    # This function shows the execution time of \n",
    "    # the function object passed\n",
    "    def wrap_func(*args, **kwargs):\n",
    "        t1 = time()\n",
    "        result = func(*args, **kwargs)\n",
    "        total = (time() - t1)*10**6\n",
    "        return total, result\n",
    "    return wrap_func\n",
    "\n",
    "@timer_func\n",
    "def addThreeNumbers(l1, l2, l3):\n",
    "\n",
    "    carry = 0\n",
    "    total = 0\n",
    "    prev = None\n",
    "    res = Singly_linked_list()\n",
    "    \n",
    "    # We first need to reverse the numbers\n",
    "    \n",
    "    l1.reverse()\n",
    "    l2.reverse()\n",
    "    l3.reverse()\n",
    "    \n",
    "    n1 = l1.head_node\n",
    "    n2 = l2.head_node\n",
    "    n3 = l3.head_node\n",
    "\n",
    "    while n1:\n",
    "\n",
    "        total = n1.val + n2.val + n3.val\n",
    "        n1, n2, n3 = n1.next_node, n2.next_node, n3.next_node\n",
    "        \n",
    "        total += carry\n",
    "        if total >= 20:\n",
    "            carry = 2\n",
    "            total -= 20\n",
    "        elif total >= 10:\n",
    "            carry = 1\n",
    "            total -= 10\n",
    "        else:\n",
    "            carry = 0\n",
    "        \n",
    "        res.insert_head(Node(total))\n",
    "    \n",
    "    if carry > 0:\n",
    "        res.insert_head(Node(carry))\n",
    "        \n",
    "    l1.reverse()\n",
    "    l2.reverse()\n",
    "    l3.reverse()\n",
    "\n",
    "    return res"
   ]
  },
  {
   "cell_type": "code",
   "execution_count": 11,
   "id": "319b0bd9",
   "metadata": {},
   "outputs": [],
   "source": [
    "def int_to_list(n):\n",
    "    \n",
    "    res = Singly_linked_list()\n",
    "    while n > 0:\n",
    "        n1 = n % 10\n",
    "        node = Node(n1)\n",
    "        res.insert_head(node)\n",
    "        n = n//10\n",
    "    return res"
   ]
  },
  {
   "cell_type": "code",
   "execution_count": 12,
   "id": "67a1ba40",
   "metadata": {},
   "outputs": [],
   "source": [
    "l1 = int_to_list(345)\n",
    "l2 = int_to_list(123)\n",
    "l3 = int_to_list(567)"
   ]
  },
  {
   "cell_type": "code",
   "execution_count": 13,
   "id": "d56d22c8",
   "metadata": {},
   "outputs": [
    {
     "name": "stdout",
     "output_type": "stream",
     "text": [
      "1\n",
      "0\n",
      "3\n",
      "5\n"
     ]
    }
   ],
   "source": [
    "us, total = addThreeNumbers(l1, l2, l3)\n",
    "total.list_traversed()"
   ]
  },
  {
   "cell_type": "code",
   "execution_count": 14,
   "id": "11978756",
   "metadata": {},
   "outputs": [
    {
     "name": "stdout",
     "output_type": "stream",
     "text": [
      "30.994415283203125\n"
     ]
    }
   ],
   "source": [
    "print(us)"
   ]
  },
  {
   "cell_type": "code",
   "execution_count": null,
   "id": "e61ca044",
   "metadata": {},
   "outputs": [],
   "source": []
  },
  {
   "cell_type": "code",
   "execution_count": null,
   "id": "ed1081d2",
   "metadata": {},
   "outputs": [],
   "source": [
    "@timer_func\n",
    "def factorial(n):\n",
    "    \n",
    "    if n>1:\n",
    "        result = n*factorial(n-1)\n",
    "        return result\n",
    "    else:\n",
    "        return 1"
   ]
  },
  {
   "cell_type": "code",
   "execution_count": null,
   "id": "6f93c10e",
   "metadata": {},
   "outputs": [],
   "source": [
    "us, total = factorial(5)"
   ]
  },
  {
   "cell_type": "code",
   "execution_count": null,
   "id": "9bfc638c",
   "metadata": {},
   "outputs": [],
   "source": [
    "print(us)"
   ]
  },
  {
   "cell_type": "code",
   "execution_count": null,
   "id": "7b7df13d",
   "metadata": {},
   "outputs": [],
   "source": [
    "@timer_func\n",
    "def memoize_factorial(n):\n",
    "    \n",
    "    cache = {}\n",
    "    \n",
    "    def factorial(n):\n",
    "        if n in cache.keys():\n",
    "            return cache[n]\n",
    "        \n",
    "        if n>1:\n",
    "            result = n*factorial(n-1)\n",
    "        \n",
    "        else:\n",
    "            return 1\n",
    "        \n",
    "        cache[n]=result\n",
    "        return result\n",
    "    return factorial(n)"
   ]
  },
  {
   "cell_type": "code",
   "execution_count": null,
   "id": "3473e75b",
   "metadata": {},
   "outputs": [],
   "source": [
    "memoize_factorial(5)"
   ]
  },
  {
   "cell_type": "code",
   "execution_count": null,
   "id": "934e6dcf",
   "metadata": {},
   "outputs": [],
   "source": [
    "def Fibonacci(n):\n",
    "    \n",
    "    cache = {} \n",
    "    \n",
    "    def recursive_fibonacci(n):\n",
    "        if n in cache.keys():\n",
    "            return cache[n]\n",
    "        \n",
    "        if n == 0:\n",
    "            res = 0\n",
    "        elif n == 1:\n",
    "            res = 1\n",
    "        else:\n",
    "            res = recursive_fibonacci(n-1) + recursive_fibonacci(n-2)\n",
    "        \n",
    "        cache[n] = res\n",
    "        return res\n",
    "    \n",
    "    return recursive_fibonacci(n)"
   ]
  },
  {
   "cell_type": "code",
   "execution_count": null,
   "id": "2ac4da94",
   "metadata": {},
   "outputs": [],
   "source": [
    "Fibonacci(4)"
   ]
  }
 ],
 "metadata": {
  "kernelspec": {
   "display_name": "Python 3 (ipykernel)",
   "language": "python",
   "name": "python3"
  },
  "language_info": {
   "codemirror_mode": {
    "name": "ipython",
    "version": 3
   },
   "file_extension": ".py",
   "mimetype": "text/x-python",
   "name": "python",
   "nbconvert_exporter": "python",
   "pygments_lexer": "ipython3",
   "version": "3.9.7"
  }
 },
 "nbformat": 4,
 "nbformat_minor": 5
}
