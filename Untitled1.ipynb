{
 "cells": [
  {
   "cell_type": "code",
   "execution_count": 23,
   "id": "9e503234",
   "metadata": {},
   "outputs": [],
   "source": [
    "dia = 1\n",
    "class Node:\n",
    "    \"\"\"\n",
    "    Implementation of a node\n",
    "    \"\"\"\n",
    "    def __init__(self, nombre=None, numero=None, lugar=None, evento=None):\n",
    "        \n",
    "        global dia \n",
    "        \n",
    "          \n",
    "        if(dia == 31):\n",
    "            dia = 1\n",
    "        self.dia = dia   #cada coneccion de un nodo va aumentando el numero de dia \n",
    "        dia +=1\n",
    "        self.nombre = nombre\n",
    "        self.numero = numero\n",
    "        self.lugar = lugar\n",
    "        self.evento = evento\n",
    "        self.next_node = None\n",
    "    \n",
    "    def set_next_node(self, next_node):\n",
    "        self.next_node = next_node\n",
    "        \n",
    "class Singly_linked_list:\n",
    "    \"\"\"\n",
    "    Implementation of a singly linked list\n",
    "    \"\"\"\n",
    "    def __init__(self, head_node=None):\n",
    "        self.head_node = head_node\n",
    "        \n",
    "    def list_traversed(self):\n",
    "        node = self.head_node\n",
    "        while node:\n",
    "            print(\"Dia: \", node.dia, \", \", node.nombre,\", \",node.numero,\", \",node.lugar,\", \",node.evento)\n",
    "            node = node.next_node\n",
    "\n",
    "class Singly_linked_list(Singly_linked_list):\n",
    "    def insert_head(self, new_node):\n",
    "        # insert to the head\n",
    "        # A -> B -> null\n",
    "        # R -> A -> B -> null \n",
    "        new_node.set_next_node(self.head_node)\n",
    "        self.head_node = new_node\n",
    "        \n",
    "    def insert_tail(self, new_node):\n",
    "        # insert to the tail\n",
    "        # A -> B -> null\n",
    "        # A -> B -> R -> null \n",
    "        node = self.head_node\n",
    "        prev = None\n",
    "        while node:\n",
    "            prev = node\n",
    "            node = node.next_node\n",
    "        prev.set_next_node(new_node)\n",
    "        \n",
    "    def insert_middle(self, new_node, value):\n",
    "        # insert in the middle\n",
    "        # A -> B -> C -> null\n",
    "        # A -> B -> R -> C -> null\n",
    "        node = self.head_node\n",
    "        while node.dia != value:\n",
    "            node = node.next_node\n",
    "        if node:\n",
    "            new_node.set_next_node(node.next_node)\n",
    "            node.set_next_node(new_node)\n",
    "        else:\n",
    "            self.insert_tail(new_node)\n",
    "            \n",
    "    def replaceinside(self,value,newnombre,newnumero,newlugar,newevento):\n",
    "        node = self.head_node\n",
    "        while node.dia != value:\n",
    "            node = node.next_node\n",
    "        node.nombre = newnombre\n",
    "        node.numero = newnumero\n",
    "        node.lugar = newlugar\n",
    "        node.evento = newevento"
   ]
  },
  {
   "cell_type": "code",
   "execution_count": 24,
   "id": "35f7f905",
   "metadata": {},
   "outputs": [
    {
     "name": "stdout",
     "output_type": "stream",
     "text": [
      "Dia:  1 ,  Juan ,  3 ,  Quito ,  Halo\n",
      "Dia:  2 ,  Juan ,  4 ,  Quita ,  Halo2\n",
      "Dia:  3 ,  Juan ,  10 ,  Quitu ,  Halo3\n"
     ]
    }
   ],
   "source": [
    "m1 = Node(\"Juan\", 3, \"Quito\", \"Halo\")\n",
    "m2 = Node(\"Juan\", 4, \"Quita\", \"Halo2\")\n",
    "m3 = Node(\"Juan\", 10, \"Quitu\", \"Halo3\")\n",
    "\n",
    "m1.set_next_node(m2)\n",
    "m2.set_next_node(m3)\n",
    "\n",
    "list1 = Singly_linked_list(m1)\n",
    "\n",
    "list1.list_traversed()"
   ]
  },
  {
   "cell_type": "code",
   "execution_count": 25,
   "id": "e1e2d8f7",
   "metadata": {},
   "outputs": [],
   "source": [
    "list1.replaceinside(2, \"Jose\", 27, \"Ibarra\", \"Halo4\")"
   ]
  },
  {
   "cell_type": "code",
   "execution_count": 26,
   "id": "c7a51795",
   "metadata": {},
   "outputs": [
    {
     "name": "stdout",
     "output_type": "stream",
     "text": [
      "Dia:  1 ,  Juan ,  3 ,  Quito ,  Halo\n",
      "Dia:  2 ,  Jose ,  27 ,  Ibarra ,  Halo4\n",
      "Dia:  3 ,  Juan ,  10 ,  Quitu ,  Halo3\n"
     ]
    }
   ],
   "source": [
    "list1.list_traversed()"
   ]
  },
  {
   "cell_type": "code",
   "execution_count": null,
   "id": "bf7f3efd",
   "metadata": {},
   "outputs": [],
   "source": []
  }
 ],
 "metadata": {
  "kernelspec": {
   "display_name": "Python 3 (ipykernel)",
   "language": "python",
   "name": "python3"
  },
  "language_info": {
   "codemirror_mode": {
    "name": "ipython",
    "version": 3
   },
   "file_extension": ".py",
   "mimetype": "text/x-python",
   "name": "python",
   "nbconvert_exporter": "python",
   "pygments_lexer": "ipython3",
   "version": "3.9.7"
  }
 },
 "nbformat": 4,
 "nbformat_minor": 5
}
