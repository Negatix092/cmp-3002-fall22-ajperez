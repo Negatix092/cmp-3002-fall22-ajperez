{
 "cells": [
  {
   "cell_type": "markdown",
   "id": "0c30fa64",
   "metadata": {},
   "source": [
    "# Octogatos: Conferencia 3\n",
    "\n",
    "## Building High Impact Communities during Covid times - Fernanda Ochoa\n",
    "\n",
    "This conference was more focused on organizing conferences in order to involve more young people in computer science. These initiatives gained more strength during the time of the pandemic, where, due to the situation, remote work and collaboration were the only means to get together. However, Fernanda knew how to speak clearly about the achievements and divided them into three main points: Hack DHI, LatinXperts and Bootcamp; all of them projects she was part of. \n",
    "\n",
    "Each of these projects had as one of its main objectives to bet on the involvement of several young people, from somewhere in Latin America, to start their way of great contribution to the world of software development. Certain criteria were taken into account at the time of these virtual meetings. The first one, Being Massive, had the purpose of using LiveStraming as a new way to share the content to be disseminated among the youth reached. In this way, twitch channels were used, including the official Github channel. As a second point, we talked about Tracking, which has to do with instructional design in real time by trends. Next, we talked about Tooling, which again talked about the work tools with which these experiences were developed: Github; as a tool to connect remote work and make it a shared work. Finally, Networking was discussed, involving discussions, since the community created around these projects would also serve as a service-help for new people interested in them. \n",
    "\n",
    "It was on this last point that the rest of the talk was developed. As the projects were planned to be of considerable dimensions, a transmission or just a couple of virtual meetings would not reach the goals that were set as starting points and this is when the community came into play as a strong point for the continuation of these projects. Within the github cloud servers of the projects, discussion forums were created, almost like forums for help and problem solving during, at the beginning and at the end of a certain step of the project. Although there are several tools whose main objective is this type of activities, only for comments and discussions so as not to mix them too much with the code already done, the speaker was quite positive about the result she saw in the service created by the workers of the three projects analyzed.\n",
    "\n",
    "\n",
    "\n",
    "\n",
    "\n",
    "\n",
    "\n"
   ]
  },
  {
   "cell_type": "code",
   "execution_count": null,
   "id": "519f7389",
   "metadata": {},
   "outputs": [],
   "source": []
  }
 ],
 "metadata": {
  "kernelspec": {
   "display_name": "Python 3 (ipykernel)",
   "language": "python",
   "name": "python3"
  },
  "language_info": {
   "codemirror_mode": {
    "name": "ipython",
    "version": 3
   },
   "file_extension": ".py",
   "mimetype": "text/x-python",
   "name": "python",
   "nbconvert_exporter": "python",
   "pygments_lexer": "ipython3",
   "version": "3.9.7"
  }
 },
 "nbformat": 4,
 "nbformat_minor": 5
}
