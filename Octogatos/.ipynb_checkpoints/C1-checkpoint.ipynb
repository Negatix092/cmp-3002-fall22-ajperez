{
 "cells": [
  {
   "cell_type": "markdown",
   "id": "ae1bdd2e",
   "metadata": {},
   "source": [
    "# Octogatos: Conferencia 1"
   ]
  },
  {
   "cell_type": "markdown",
   "id": "b7336877",
   "metadata": {},
   "source": [
    "## Keynote - Juan Pablo Burítica"
   ]
  },
  {
   "cell_type": "markdown",
   "id": "37295790",
   "metadata": {},
   "source": [
    "In this presentation we were told about the characteristics of the Software Engineering career. To begin with, Juan Pablo made a distinction between the act of programming and the act of building software: while the act of programming is individual, building software is a social act. \n",
    "\n",
    "Following the train of thought, it was established that collaboration, as exemplified in Github, corresponds to an emerging property in Software Engineering. Keeping it local, i.e. individual, would be similar to trying to make all the software created result in a cell and we would like to see it beating: it would not be possible, unless several cells are joined together and we manage to form a heart, which we would see beating. \n",
    "\n",
    "To continue, the above idea was developed. If it is possible to have competent individual projects, it is somewhat obvious that for a team case it will also be possible to have them. Thus, in the Keynote, certain criteria that must be met for this to be the case were discussed. Here are some of the most important ones.\n",
    "\n",
    "\n",
    "## Clarity is Kindness: A capable product engineering team can...\n",
    "\n",
    "* **Navigate ambiguity:** working in a valuable way instead of just wondering around looking for guidance. \n",
    "* **Set goals:** establish goals that are measurable and achievable. Also, define outcomes that align with overall strategy.\n",
    "* **Anticipate problems:** use monitoring, alerting and other tools to observe and react.\n",
    "* **Ask for help:** inform about needs without waiting for the supervisors to ask for them.\n",
    "* **Broadcast State:** use and establish channels for status reporting (linked with defining working agreements). This should be done before the supervisors ask for it.\n",
    "* **Negotiate dependencies:** facilitate contributions across codebase as needed to reduce coupling. In this case, one should consider Github and its tools of team work: push, pull, commit and request. \n",
    "* **Escalate Appropiately:** escale through the established chain of command. One should lean on leadership to give a status report and for them to take responsability for outcomes. \n",
    "* **Manage it's capacity:** understand it's distribution across maintain, support & feature building.\n",
    "* **Onboard team members:** enable new team members to feel comfortable and productive quickly.\n",
    "* **Understand it's users:** establishing feedback channels, prioritazing users' needs. \n",
    "* **Understand it's levers:** connecting organizational business goals to day to day work.\n",
    "* **Define working agreements:** discuss and negotiate ways of working that serve team-members.\n",
    "* **Respond to incidents:** communicate response state clearly and in a timely manner (daily, if possible).\n",
    "\n",
    "\n",
    "\n",
    "\n",
    "\n"
   ]
  },
  {
   "cell_type": "code",
   "execution_count": null,
   "id": "533a3f84",
   "metadata": {},
   "outputs": [],
   "source": []
  }
 ],
 "metadata": {
  "kernelspec": {
   "display_name": "Python 3 (ipykernel)",
   "language": "python",
   "name": "python3"
  },
  "language_info": {
   "codemirror_mode": {
    "name": "ipython",
    "version": 3
   },
   "file_extension": ".py",
   "mimetype": "text/x-python",
   "name": "python",
   "nbconvert_exporter": "python",
   "pygments_lexer": "ipython3",
   "version": "3.9.7"
  }
 },
 "nbformat": 4,
 "nbformat_minor": 5
}
