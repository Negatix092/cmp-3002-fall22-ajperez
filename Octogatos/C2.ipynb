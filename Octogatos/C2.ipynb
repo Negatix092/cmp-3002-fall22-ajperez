{
 "cells": [
  {
   "cell_type": "markdown",
   "id": "0c30fa64",
   "metadata": {},
   "source": [
    "# Octogatos: Conferencia 2\n",
    "\n",
    "## Responsible AI - Carla Mamani & Luis Beltrán\n",
    "\n",
    "What was discussed in this talk had to do with the main considerations to be taken into account when starting to work on projects involving IA. The approach given to this type of projects has to do with not losing sight of security, reliability and ethics criteria while moving forward. All these in order to ensure a responsible project outcome. \"In general terms, Responsible IA is the practice of upholding the principles of IA when designing, building and using artificial intelligence topics\" (Beltran, 2022).\n",
    "\n",
    "To begin with, equity was discussed. The main thing to take into account for this parameter is to consider an absence of negative impact on the groups. This absence must be built on the basis of: physical capabilities, ethnicity, gender, ethnicity; all of them sensitive characteristics that, if not absent, could represent in corrupt IA or with a high probability of being corrupted by malicious external agents. At this point the book \"Algorithms of oppression\" was mentioned, suggested as a starting point if one intends to delve into the subject.\n",
    "\n",
    "As a point of analysis, two important concepts were discussed: **Global Feature Importance and Local Feature Importance.**\n",
    "\n",
    "Regarding the first one, it was mentioned that it has to do with the overall importance of the features for all test data (this is what IA was intended to be used for, to analyze test data). In addition, this point indicates the relative influence of each feature on the prediction label.\n",
    "\n",
    "Regarding the second one, it was mentioned that it has to do with the importance of the features for an individual prediction. In classification, this shows the relative support for each possible class per feature.\n",
    "\n",
    "To continue, the point of **Reliability** was discussed. The problem formation has to be attached to a logarithm that is an ethical solution to the problem at hand. When constructing data or data sets, it is necessary to define whether they are representative of different groups (taking into account equity factors), whether there are biases in the labels or characteristics and, in the worst case, to modify the data in order to eliminate such biases.\n",
    "Finally, a summary was made of the principles to be taken into account for the development of the conference theme.\n",
    "\n",
    "\n",
    "### Principles of a responsible AI\n",
    "\n",
    "* **Fairness**\n",
    "\n",
    "* **Reliability and Security**\n",
    "\n",
    "* **Privacy** \n",
    "\n",
    "* **Inclusion**\n",
    "\n",
    "* **Transparency**\n",
    "\n",
    "* **Accountability**\n",
    "\n",
    "\n",
    "\n",
    "\n",
    "\n"
   ]
  },
  {
   "cell_type": "code",
   "execution_count": null,
   "id": "519f7389",
   "metadata": {},
   "outputs": [],
   "source": []
  }
 ],
 "metadata": {
  "kernelspec": {
   "display_name": "Python 3 (ipykernel)",
   "language": "python",
   "name": "python3"
  },
  "language_info": {
   "codemirror_mode": {
    "name": "ipython",
    "version": 3
   },
   "file_extension": ".py",
   "mimetype": "text/x-python",
   "name": "python",
   "nbconvert_exporter": "python",
   "pygments_lexer": "ipython3",
   "version": "3.9.7"
  }
 },
 "nbformat": 4,
 "nbformat_minor": 5
}
