{
 "cells": [
  {
   "cell_type": "code",
   "execution_count": 13,
   "id": "e4e399e6",
   "metadata": {},
   "outputs": [],
   "source": [
    "class Node:\n",
    "    \"\"\"\n",
    "    Implementation of a node\n",
    "    \"\"\"\n",
    "    def __init__(self, val=None):\n",
    "        self.val = val\n",
    "        self.next_node = None\n",
    "    \n",
    "    def set_next_node(self, next_node):\n",
    "        self.next_node = next_node\n",
    "        \n",
    "class Singly_linked_list:\n",
    "    \"\"\"\n",
    "    Implementation of a singly linked list\n",
    "    \"\"\"\n",
    "    def __init__(self, head_node=None):\n",
    "        self.head_node = head_node\n",
    "        \n",
    "    def insert_end(self, val):\n",
    "        node = self.head_node        \n",
    "        while node.next_node:\n",
    "            node = node.next_node           \n",
    "        new_node = Node(val)\n",
    "        node.next_node = new_node\n",
    "        \n",
    "    def list_traversed(self):\n",
    "        node = self.head_node\n",
    "        while node:\n",
    "            print(node.val)\n",
    "            node = node.next_node"
   ]
  },
  {
   "cell_type": "code",
   "execution_count": 14,
   "id": "05518d23",
   "metadata": {},
   "outputs": [],
   "source": [
    "a = Node('A')\n",
    "L = Singly_linked_list(a)"
   ]
  },
  {
   "cell_type": "code",
   "execution_count": 15,
   "id": "f8d0346c",
   "metadata": {},
   "outputs": [],
   "source": [
    "L.insert_end('B')\n",
    "L.insert_end('C')\n",
    "L.insert_end('D')\n",
    "L.insert_end('E')\n",
    "L.insert_end('F')\n",
    "L.insert_end('G')\n",
    "L.insert_end('H')\n",
    "L.insert_end('I')\n",
    "L.insert_end('J')"
   ]
  },
  {
   "cell_type": "code",
   "execution_count": 16,
   "id": "5bed2f0e",
   "metadata": {},
   "outputs": [
    {
     "name": "stdout",
     "output_type": "stream",
     "text": [
      "A\n",
      "B\n",
      "C\n",
      "D\n",
      "E\n",
      "F\n",
      "G\n",
      "H\n",
      "I\n",
      "J\n"
     ]
    }
   ],
   "source": [
    "L.list_traversed()"
   ]
  },
  {
   "cell_type": "code",
   "execution_count": 17,
   "id": "07402887",
   "metadata": {},
   "outputs": [],
   "source": [
    "def deep_copy(head_node):\n",
    "    \n",
    "    #this condition only makes sure that we reach the end of our single linked list\n",
    "    if (head_node == None) or (head_node.next_node == None):\n",
    "        return head_node\n",
    "    \n",
    "    #a node is created using the head of the original linked list\n",
    "    #this node will be part of the new linked list, the one that is the deep copy\n",
    "    new_node = Node(head_node.val)\n",
    "    #here the pointer of the new node is created and this one will point\n",
    "    #to the original next node of the original node, but it is a new pointer\n",
    "    new_node.next_node = deep_copy(head_node.next_node)#recursion is used for this example\n",
    "    \n",
    "    return new_node#in order to create the single list"
   ]
  },
  {
   "cell_type": "code",
   "execution_count": 18,
   "id": "d437d731",
   "metadata": {},
   "outputs": [],
   "source": [
    "L1 = deep_copy(L.head_node)"
   ]
  },
  {
   "cell_type": "code",
   "execution_count": 19,
   "id": "08d088be",
   "metadata": {},
   "outputs": [],
   "source": [
    "L1 = Singly_linked_list(L1)"
   ]
  },
  {
   "cell_type": "code",
   "execution_count": 20,
   "id": "0638240a",
   "metadata": {},
   "outputs": [
    {
     "name": "stdout",
     "output_type": "stream",
     "text": [
      "A\n",
      "B\n",
      "C\n",
      "D\n",
      "E\n",
      "F\n",
      "G\n",
      "H\n",
      "I\n",
      "J\n"
     ]
    }
   ],
   "source": [
    "L1.list_traversed()"
   ]
  },
  {
   "cell_type": "code",
   "execution_count": 21,
   "id": "55847d00",
   "metadata": {},
   "outputs": [
    {
     "name": "stdout",
     "output_type": "stream",
     "text": [
      "A\n",
      "B\n",
      "C\n",
      "D\n",
      "E\n",
      "F\n",
      "G\n",
      "H\n",
      "I\n",
      "J\n"
     ]
    }
   ],
   "source": [
    "L.list_traversed()"
   ]
  },
  {
   "cell_type": "code",
   "execution_count": 22,
   "id": "beaea1c5",
   "metadata": {},
   "outputs": [],
   "source": [
    "L1.head_node.next_node = None"
   ]
  },
  {
   "cell_type": "code",
   "execution_count": 23,
   "id": "35e6f792",
   "metadata": {},
   "outputs": [
    {
     "name": "stdout",
     "output_type": "stream",
     "text": [
      "A\n"
     ]
    }
   ],
   "source": [
    "L1.list_traversed()"
   ]
  },
  {
   "cell_type": "code",
   "execution_count": 24,
   "id": "88a2c317",
   "metadata": {},
   "outputs": [
    {
     "name": "stdout",
     "output_type": "stream",
     "text": [
      "A\n",
      "B\n",
      "C\n",
      "D\n",
      "E\n",
      "F\n",
      "G\n",
      "H\n",
      "I\n",
      "J\n"
     ]
    }
   ],
   "source": [
    "L.list_traversed()"
   ]
  },
  {
   "cell_type": "markdown",
   "id": "6725807d",
   "metadata": {},
   "source": [
    "Since L1 is a deep copy of L, making changes in L1 wont affect the original linked list, L. At the end, the head of L1 is pointing now to null but the head of L is still pointing to its next node. "
   ]
  },
  {
   "cell_type": "code",
   "execution_count": null,
   "id": "49ee198f",
   "metadata": {},
   "outputs": [],
   "source": []
  }
 ],
 "metadata": {
  "kernelspec": {
   "display_name": "Python 3 (ipykernel)",
   "language": "python",
   "name": "python3"
  },
  "language_info": {
   "codemirror_mode": {
    "name": "ipython",
    "version": 3
   },
   "file_extension": ".py",
   "mimetype": "text/x-python",
   "name": "python",
   "nbconvert_exporter": "python",
   "pygments_lexer": "ipython3",
   "version": "3.9.7"
  }
 },
 "nbformat": 4,
 "nbformat_minor": 5
}
