{
 "cells": [
  {
   "cell_type": "code",
   "execution_count": 1,
   "id": "587b6244",
   "metadata": {},
   "outputs": [],
   "source": [
    "import time\n",
    "import pandas as pd\n",
    "import numpy as np\n",
    "import matplotlib.pyplot as plt\n",
    "%matplotlib inline"
   ]
  },
  {
   "cell_type": "markdown",
   "id": "ff8b704a",
   "metadata": {},
   "source": [
    "# Homework 1 - Alex Perez - Data Structures"
   ]
  },
  {
   "cell_type": "markdown",
   "id": "d722e9dd",
   "metadata": {},
   "source": [
    "### 1. Assume we implemented an algorithm that has complexity approximately $ nlog(n) $. How much faster is this implementation compared to one of complexity $ n^2 $?"
   ]
  },
  {
   "cell_type": "code",
   "execution_count": null,
   "id": "49c13e16",
   "metadata": {},
   "outputs": [],
   "source": []
  }
 ],
 "metadata": {
  "kernelspec": {
   "display_name": "Python 3 (ipykernel)",
   "language": "python",
   "name": "python3"
  },
  "language_info": {
   "codemirror_mode": {
    "name": "ipython",
    "version": 3
   },
   "file_extension": ".py",
   "mimetype": "text/x-python",
   "name": "python",
   "nbconvert_exporter": "python",
   "pygments_lexer": "ipython3",
   "version": "3.9.7"
  }
 },
 "nbformat": 4,
 "nbformat_minor": 5
}
