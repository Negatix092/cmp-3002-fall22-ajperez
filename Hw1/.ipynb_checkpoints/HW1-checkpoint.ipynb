{
 "cells": [
  {
   "cell_type": "code",
   "execution_count": 2,
   "id": "587b6244",
   "metadata": {},
   "outputs": [],
   "source": [
    "import time\n",
    "import pandas as pd\n",
    "import numpy as np\n",
    "import math as m\n",
    "import matplotlib.pyplot as plt\n",
    "from scipy.optimize import curve_fit\n",
    "%matplotlib inline"
   ]
  },
  {
   "cell_type": "markdown",
   "id": "ff8b704a",
   "metadata": {},
   "source": [
    "# Homework 1 - Alex Perez - Data Structures"
   ]
  },
  {
   "cell_type": "markdown",
   "id": "d722e9dd",
   "metadata": {},
   "source": [
    "### 1. Assume we implemented an algorithm that has complexity approximately $ nlog(n) $. How much faster is this implementation compared to one of complexity $ n^2 $?"
   ]
  },
  {
   "cell_type": "markdown",
   "id": "04e6e6a7",
   "metadata": {},
   "source": [
    "We can start by dividing these two complexities:\n",
    "\n",
    "\\begin{equation}\n",
    "\\frac {n^2}{nlog(n)}\n",
    "\\end{equation}\n",
    "\n",
    "\\begin{equation}\n",
    "\\frac{n}{log(n)}\n",
    "\\end{equation}\n",
    "\n",
    "Now, after a quick analysis, we can say that $n$ will grow faster than $log(n)$. If this short analysis is not convincing enough, lets assume otherwise:\n",
    "\n",
    "\\begin{equation}\n",
    "\\frac{n}{log(n)} < 1\n",
    "\\end{equation}\n",
    "\n",
    "\\begin{equation}\n",
    "\\Rightarrow n < log(n)\n",
    "\\end{equation}\n",
    "\n",
    "It is useful to remember that, in class, we discussed that most of our logarithmic functions will have a base 2, so, using properties of logarithms, we can do as follows:\n",
    "\n",
    "\\begin{equation}\n",
    "2^n < 2^{log(n)}\n",
    "\\end{equation}\n",
    "\n",
    "\\begin{equation}\n",
    "\\Rightarrow 2^n < n\n",
    "\\end{equation}\n",
    "\n",
    "This last expression is obviously a contradiction, so, $n$ should be greater than $log(n)$ for all $n$ greater than 0 and, goin back to the original problem, the algorithm with complexity $nlog(n)$ is slower compared to the algorithm of complexity $n^2$. \n",
    "\n",
    "\\begin{equation}\n",
    "n^2 > n \\cdot log(n)\n",
    "\\end{equation}"
   ]
  },
  {
   "cell_type": "code",
   "execution_count": 10,
   "id": "73fd03f4",
   "metadata": {},
   "outputs": [],
   "source": [
    "f = pd.DataFrame()\n",
    "f['n'] = np.arange(1,100,10)"
   ]
  },
  {
   "cell_type": "code",
   "execution_count": 11,
   "id": "8ea62a4b",
   "metadata": {},
   "outputs": [],
   "source": [
    "f['n^2'] = np.power(f['n'],2)\n",
    "f['nlog(n)'] = f['n']* np.log2(f['n'])"
   ]
  },
  {
   "cell_type": "code",
   "execution_count": 12,
   "id": "fca3338c",
   "metadata": {},
   "outputs": [
    {
     "data": {
      "image/png": "[encoded data removed]",
      "text/plain": [
       "<Figure size 432x288 with 1 Axes>"
      ]
     },
     "metadata": {
      "needs_background": "light"
     },
     "output_type": "display_data"
    }
   ],
   "source": [
    "f.plot(x='n', logy=True)\n",
    "plt.xlabel(\"Values of n\")\n",
    "plt.ylabel(\"Complexity of Algorithms\")\n",
    "plt.title('Comparing $n^2$ against $nlog(n)$')\n",
    "plt.grid()"
   ]
  },
  {
   "cell_type": "markdown",
   "id": "37429298",
   "metadata": {},
   "source": [
    "As proven. "
   ]
  },
  {
   "cell_type": "markdown",
   "id": "4c885ddb",
   "metadata": {},
   "source": [
    "### 2. The runtime of an algorithm is captured in the following table. As precisely as possible, estimate the function that describes the growth of the runtime."
   ]
  },
  {
   "cell_type": "markdown",
   "id": "715b453e",
   "metadata": {},
   "source": [
    "As seen in class, we can begin by creating a DataFrame with the values given in the table. We define n and the runtime of the algorithm:"
   ]
  },
  {
   "cell_type": "code",
   "execution_count": 17,
   "id": "d48bb927",
   "metadata": {},
   "outputs": [],
   "source": [
    "n = [1, 2, 4, 8, 16, 32, 64]\n",
    "run_time = [0.0, 0.02, 0.2, 0.6, 2.6, 10.4, 41.6]"
   ]
  },
  {
   "cell_type": "code",
   "execution_count": 18,
   "id": "34a1efcb",
   "metadata": {},
   "outputs": [
    {
     "data": {
      "text/html": [
       "<div>\n",
       "<style scoped>\n",
       "    .dataframe tbody tr th:only-of-type {\n",
       "        vertical-align: middle;\n",
       "    }\n",
       "\n",
       "    .dataframe tbody tr th {\n",
       "        vertical-align: top;\n",
       "    }\n",
       "\n",
       "    .dataframe thead th {\n",
       "        text-align: right;\n",
       "    }\n",
       "</style>\n",
       "<table border=\"1\" class=\"dataframe\">\n",
       "  <thead>\n",
       "    <tr style=\"text-align: right;\">\n",
       "      <th></th>\n",
       "      <th>n</th>\n",
       "      <th>T(n)</th>\n",
       "    </tr>\n",
       "  </thead>\n",
       "  <tbody>\n",
       "    <tr>\n",
       "      <th>0</th>\n",
       "      <td>1</td>\n",
       "      <td>0.00</td>\n",
       "    </tr>\n",
       "    <tr>\n",
       "      <th>1</th>\n",
       "      <td>2</td>\n",
       "      <td>0.02</td>\n",
       "    </tr>\n",
       "    <tr>\n",
       "      <th>2</th>\n",
       "      <td>4</td>\n",
       "      <td>0.20</td>\n",
       "    </tr>\n",
       "    <tr>\n",
       "      <th>3</th>\n",
       "      <td>8</td>\n",
       "      <td>0.60</td>\n",
       "    </tr>\n",
       "    <tr>\n",
       "      <th>4</th>\n",
       "      <td>16</td>\n",
       "      <td>2.60</td>\n",
       "    </tr>\n",
       "    <tr>\n",
       "      <th>5</th>\n",
       "      <td>32</td>\n",
       "      <td>10.40</td>\n",
       "    </tr>\n",
       "    <tr>\n",
       "      <th>6</th>\n",
       "      <td>64</td>\n",
       "      <td>41.60</td>\n",
       "    </tr>\n",
       "  </tbody>\n",
       "</table>\n",
       "</div>"
      ],
      "text/plain": [
       "    n   T(n)\n",
       "0   1   0.00\n",
       "1   2   0.02\n",
       "2   4   0.20\n",
       "3   8   0.60\n",
       "4  16   2.60\n",
       "5  32  10.40\n",
       "6  64  41.60"
      ]
     },
     "execution_count": 18,
     "metadata": {},
     "output_type": "execute_result"
    }
   ],
   "source": [
    "df = pd.DataFrame(zip(n,run_time))\n",
    "df.columns = ['n', 'T(n)']\n",
    "df"
   ]
  },
  {
   "cell_type": "markdown",
   "id": "68c8f590",
   "metadata": {},
   "source": [
    "As a next step, we can plot these values in order to get a better idea of what we can expect the function will look like."
   ]
  },
  {
   "cell_type": "code",
   "execution_count": 19,
   "id": "77ca5051",
   "metadata": {},
   "outputs": [
    {
     "data": {
      "text/plain": [
       "Text(0, 0.5, 'T(n)')"
      ]
     },
     "execution_count": 19,
     "metadata": {},
     "output_type": "execute_result"
    },
    {
     "data": {
      "image/png": "[encoded data removed]",
      "text/plain": [
       "<Figure size 432x288 with 1 Axes>"
      ]
     },
     "metadata": {
      "needs_background": "light"
     },
     "output_type": "display_data"
    }
   ],
   "source": [
    "df.plot(x='n', y='T(n)')\n",
    "plt.xlabel(\"n\")\n",
    "plt.ylabel(\"T(n)\")"
   ]
  },
  {
   "cell_type": "markdown",
   "id": "44d86f94",
   "metadata": {},
   "source": [
    "### Hypothesis\n",
    "\n",
    "The growth of the runtime seems to follow an exponential function of the type:\n",
    "\n",
    "\\begin{equation}\n",
    "T(n) = e^n\n",
    "\\end{equation}"
   ]
  },
  {
   "cell_type": "code",
   "execution_count": 20,
   "id": "5d18167d",
   "metadata": {},
   "outputs": [],
   "source": [
    "F = pd.DataFrame()\n",
    "F['n'] = [1, 2, 4, 8, 16, 32, 64]\n",
    "F['T(n)'] = [0.0, 0.02, 0.2, 0.6, 2.6, 10.4, 41.6]\n",
    "F['exp(n)'] = np.exp(F['n'])"
   ]
  },
  {
   "cell_type": "code",
   "execution_count": 21,
   "id": "6f6346b7",
   "metadata": {},
   "outputs": [
    {
     "data": {
      "image/png": "[encoded data removed]",
      "text/plain": [
       "<Figure size 432x288 with 1 Axes>"
      ]
     },
     "metadata": {
      "needs_background": "light"
     },
     "output_type": "display_data"
    }
   ],
   "source": [
    "F.plot(x='n')\n",
    "plt.xlabel('Values of n')\n",
    "plt.ylabel('Approximating $e^n$ to $T(n)$')\n",
    "plt.grid()"
   ]
  },
  {
   "cell_type": "code",
   "execution_count": null,
   "id": "78d73ed8",
   "metadata": {},
   "outputs": [],
   "source": []
  }
 ],
 "metadata": {
  "kernelspec": {
   "display_name": "Python 3 (ipykernel)",
   "language": "python",
   "name": "python3"
  },
  "language_info": {
   "codemirror_mode": {
    "name": "ipython",
    "version": 3
   },
   "file_extension": ".py",
   "mimetype": "text/x-python",
   "name": "python",
   "nbconvert_exporter": "python",
   "pygments_lexer": "ipython3",
   "version": "3.9.7"
  }
 },
 "nbformat": 4,
 "nbformat_minor": 5
}
