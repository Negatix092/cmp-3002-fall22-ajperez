{
 "cells": [
  {
   "cell_type": "code",
   "execution_count": 69,
   "id": "70e13fc7",
   "metadata": {},
   "outputs": [],
   "source": [
    "import time\n",
    "import pandas as pd\n",
    "import numpy as np\n",
    "import matplotlib.pyplot as plt\n",
    "import re \n",
    "%matplotlib inline  "
   ]
  },
  {
   "cell_type": "code",
   "execution_count": 77,
   "id": "fc73dc43",
   "metadata": {},
   "outputs": [],
   "source": [
    "def create_array(inicio, final):\n",
    "    a = []\n",
    "    for i in range(int(inicio),int(final)+1):\n",
    "        a.append(i)\n",
    "            \n",
    "    return a"
   ]
  },
  {
   "cell_type": "code",
   "execution_count": 78,
   "id": "6f18ae7d",
   "metadata": {},
   "outputs": [],
   "source": [
    "def create_array2(inicio, final):\n",
    "    b = []\n",
    "    for i in range(int(inicio),int(final)+1):\n",
    "        b.append(i)\n",
    "            \n",
    "    return b"
   ]
  },
  {
   "cell_type": "code",
   "execution_count": 111,
   "id": "7de7bcb7",
   "metadata": {},
   "outputs": [
    {
     "data": {
      "text/plain": [
       "[7]"
      ]
     },
     "execution_count": 111,
     "metadata": {},
     "output_type": "execute_result"
    }
   ],
   "source": [
    "create_array(\"7\",\"7\")"
   ]
  },
  {
   "cell_type": "code",
   "execution_count": 279,
   "id": "25118528",
   "metadata": {},
   "outputs": [
    {
     "data": {
      "text/plain": [
       "1000"
      ]
     },
     "execution_count": 279,
     "metadata": {},
     "output_type": "execute_result"
    }
   ],
   "source": [
    "f = open(\"input4.txt\", \"r\")\n",
    "c = 0\n",
    "linea = []\n",
    "for x in f:\n",
    "    c += 1\n",
    "    linea.append(x.strip())\n",
    "c"
   ]
  },
  {
   "cell_type": "code",
   "execution_count": 280,
   "id": "bef8eb6c",
   "metadata": {},
   "outputs": [
    {
     "data": {
      "text/plain": [
       "'6-63,80-92'"
      ]
     },
     "execution_count": 280,
     "metadata": {},
     "output_type": "execute_result"
    }
   ],
   "source": [
    "linea[-1]"
   ]
  },
  {
   "cell_type": "code",
   "execution_count": 284,
   "id": "43022245",
   "metadata": {},
   "outputs": [],
   "source": [
    "actual = []\n",
    "wa = 0\n",
    "\n",
    "for i in range(0,len(linea)):\n",
    "    actual = linea[i]\n",
    "    a2 = re.findall(r'\\b\\d+\\b', actual)\n",
    "    a = create_array(a2[0],a2[1])\n",
    "    b = create_array(a2[2],a2[3])\n",
    "    \n",
    "    if len(a)==len(b):\n",
    "        if (np.array_equal(a, b))==True:\n",
    "            wa += 1\n",
    "    elif len(a)<len(b):\n",
    "        if (set(a).issubset(b)) == True:\n",
    "            wa += 1\n",
    "    elif len(a)>len(b):\n",
    "        if (set(b).issubset(a)) == True:\n",
    "            wa +=1"
   ]
  },
  {
   "cell_type": "code",
   "execution_count": 285,
   "id": "979c0bcf",
   "metadata": {},
   "outputs": [
    {
     "data": {
      "text/plain": [
       "433"
      ]
     },
     "execution_count": 285,
     "metadata": {},
     "output_type": "execute_result"
    }
   ],
   "source": [
    "wa"
   ]
  },
  {
   "cell_type": "code",
   "execution_count": 287,
   "id": "71a40f3c",
   "metadata": {},
   "outputs": [],
   "source": [
    "actual = []\n",
    "wa = 0\n",
    "\n",
    "for i in range(0,len(linea)):\n",
    "    actual = linea[i]\n",
    "    a2 = re.findall(r'\\b\\d+\\b', actual)\n",
    "    a = create_array(a2[0],a2[1])\n",
    "    b = create_array(a2[2],a2[3])\n",
    "    \n",
    "    for x in a:\n",
    "        if x in b:\n",
    "            wa += 1\n",
    "            break"
   ]
  },
  {
   "cell_type": "code",
   "execution_count": 288,
   "id": "38fea6dc",
   "metadata": {},
   "outputs": [
    {
     "data": {
      "text/plain": [
       "852"
      ]
     },
     "execution_count": 288,
     "metadata": {},
     "output_type": "execute_result"
    }
   ],
   "source": [
    "wa"
   ]
  },
  {
   "cell_type": "code",
   "execution_count": null,
   "id": "cba34ee7",
   "metadata": {},
   "outputs": [],
   "source": []
  }
 ],
 "metadata": {
  "kernelspec": {
   "display_name": "Python 3 (ipykernel)",
   "language": "python",
   "name": "python3"
  },
  "language_info": {
   "codemirror_mode": {
    "name": "ipython",
    "version": 3
   },
   "file_extension": ".py",
   "mimetype": "text/x-python",
   "name": "python",
   "nbconvert_exporter": "python",
   "pygments_lexer": "ipython3",
   "version": "3.9.7"
  }
 },
 "nbformat": 4,
 "nbformat_minor": 5
}
