{
 "cells": [
  {
   "cell_type": "code",
   "execution_count": 2,
   "id": "7cccc613",
   "metadata": {},
   "outputs": [
    {
     "name": "stdout",
     "output_type": "stream",
     "text": [
      "13052\n"
     ]
    }
   ],
   "source": [
    "inputs = []\n",
    "\n",
    "with open('input2.txt') as file:\n",
    "    inputs = file.read().splitlines()\n",
    "\n",
    "score = 0\n",
    "\n",
    "win = {'A': 'Y', 'B': 'Z', 'C': 'X'}\n",
    "lose = {'A': 'Z', 'B': 'X', 'C': 'Y'}\n",
    "shape = {'X': 1, 'Y': 2, 'Z': 3}\n",
    "elf_shape = {'A': 1, 'B': 2, 'C': 3}\n",
    "for i in inputs:\n",
    "    elf = i[0]\n",
    "    me = i[2]\n",
    "    if win[elf] == me:\n",
    "        score+=shape[me]+6\n",
    "    elif lose[elf] == me:\n",
    "        score+=shape[me]\n",
    "    else:\n",
    "        score+=shape[me]+3\n",
    "#score=0\n",
    "#for i in inputs:\n",
    "#    elf = i[0]\n",
    "#    exp = i[2]\n",
    "#    if exp == 'X':\n",
    "#        score+=shape[lose[elf]]\n",
    "#    elif exp == 'Z':\n",
    "#        score+=shape[win[elf]]+6\n",
    "#    else:\n",
    "#        score+=elf_shape[elf]+3\n",
    "\n",
    "print(score)"
   ]
  },
  {
   "cell_type": "code",
   "execution_count": null,
   "id": "7ea1cfa6",
   "metadata": {},
   "outputs": [],
   "source": []
  }
 ],
 "metadata": {
  "kernelspec": {
   "display_name": "Python 3 (ipykernel)",
   "language": "python",
   "name": "python3"
  },
  "language_info": {
   "codemirror_mode": {
    "name": "ipython",
    "version": 3
   },
   "file_extension": ".py",
   "mimetype": "text/x-python",
   "name": "python",
   "nbconvert_exporter": "python",
   "pygments_lexer": "ipython3",
   "version": "3.9.7"
  }
 },
 "nbformat": 4,
 "nbformat_minor": 5
}
