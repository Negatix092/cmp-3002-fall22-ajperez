{
 "cells": [
  {
   "cell_type": "code",
   "execution_count": 1,
   "id": "071f3e52",
   "metadata": {},
   "outputs": [],
   "source": [
    "import time\n",
    "import pandas as pd\n",
    "import numpy as np\n",
    "import matplotlib.pyplot as plt\n",
    "%matplotlib inline"
   ]
  },
  {
   "cell_type": "code",
   "execution_count": 2,
   "id": "22853909",
   "metadata": {},
   "outputs": [
    {
     "name": "stdout",
     "output_type": "stream",
     "text": [
      "2500\n"
     ]
    }
   ],
   "source": [
    "f = open(\"input2.txt\", \"r\")\n",
    "c = 0\n",
    "for x in f:\n",
    "  c += 1\n",
    "print(c)"
   ]
  },
  {
   "cell_type": "code",
   "execution_count": 3,
   "id": "1a3a7d55",
   "metadata": {},
   "outputs": [],
   "source": [
    "f = open(\"input2.txt\", \"r\")\n",
    "c = 0\n",
    "st = f.read()\n",
    "result = st.replace('A', '1')\n",
    "result2 = result.replace('X', '1')\n",
    "result3 = result2.replace('B', '2')\n",
    "result4 = result3.replace('Y', '2')\n",
    "result5 = result4.replace('C', '3')\n",
    "result6 = result5.replace('Z', '3')\n",
    "#print(str(result6))\n",
    "#print(st)"
   ]
  },
  {
   "cell_type": "code",
   "execution_count": 4,
   "id": "17734381",
   "metadata": {},
   "outputs": [],
   "source": [
    "fr = result6.split(\"\\n\")\n",
    "#fr2 = fr.split('')\n",
    "#print(fr)"
   ]
  },
  {
   "cell_type": "code",
   "execution_count": 5,
   "id": "7271cd9c",
   "metadata": {},
   "outputs": [],
   "source": [
    "sn = str(fr)\n",
    "sn1 = sn.replace(\"['\", '')\n",
    "sn2 = sn1.replace(\"',\", '')\n",
    "sn3 = sn2.replace(\"'\", ',')\n",
    "sn4 = sn3.replace(\" ,\", ' ;')\n",
    "sn5 = sn4.replace(\",]\", '')\n",
    "sn6 = sn5.replace(\";\", '')\n",
    "#sn6"
   ]
  },
  {
   "cell_type": "code",
   "execution_count": 6,
   "id": "90f89c66",
   "metadata": {
    "scrolled": false
   },
   "outputs": [],
   "source": [
    "a = []\n",
    "em = []\n",
    "for i in sn6:\n",
    "    if i != ' ':\n",
    "        a.append(int(i))\n",
    "    else:\n",
    "        em.append(i)\n",
    "#print(a)"
   ]
  },
  {
   "cell_type": "code",
   "execution_count": 7,
   "id": "f9180212",
   "metadata": {},
   "outputs": [
    {
     "data": {
      "text/plain": [
       "5000"
      ]
     },
     "execution_count": 7,
     "metadata": {},
     "output_type": "execute_result"
    }
   ],
   "source": [
    "len(a)"
   ]
  },
  {
   "cell_type": "code",
   "execution_count": 8,
   "id": "972a2745",
   "metadata": {},
   "outputs": [],
   "source": [
    "rival = []\n",
    "yo = []\n",
    "for i in range(0,len(a),2):\n",
    "    rival.append(a[i])\n",
    "for i in range(1,len(a),2):\n",
    "    yo.append(a[i])"
   ]
  },
  {
   "cell_type": "code",
   "execution_count": 9,
   "id": "1eb11d6c",
   "metadata": {},
   "outputs": [
    {
     "data": {
      "text/plain": [
       "5297"
      ]
     },
     "execution_count": 9,
     "metadata": {},
     "output_type": "execute_result"
    }
   ],
   "source": [
    "sum(yo)"
   ]
  },
  {
   "cell_type": "code",
   "execution_count": 10,
   "id": "9ae8423a",
   "metadata": {},
   "outputs": [],
   "source": [
    "import ctypes\n",
    "class Stack(object):\n",
    "    \"\"\"\n",
    "    Implementation of the stack data structure\n",
    "    \"\"\"\n",
    "\n",
    "    def __init__(self, n):\n",
    "        self.l = 0\n",
    "        self.n = n\n",
    "        self.stack = self._create_stack(self.n)        \n",
    "    \n",
    "    def _create_stack(self, n):\n",
    "        \"\"\"\n",
    "        Creates a new stack of capacity n\n",
    "        \"\"\"\n",
    "        return (n * ctypes.py_object)()\n",
    "    \n",
    "    def push(self, item):\n",
    "        \"\"\"\n",
    "        Add new item to the stack\n",
    "        \"\"\"\n",
    "        if self.l == self.n:\n",
    "            raise ValueError(\"no more capacity\")\n",
    "        self.stack[self.l] = item\n",
    "        self.l += 1\n",
    "        \n",
    "    def pop(self):\n",
    "        \"\"\"\n",
    "        Remove an element from the stack\n",
    "        \"\"\"\n",
    "        # self.l = 0\n",
    "        # 0 is equivalent to False\n",
    "        # any number != 0 is True\n",
    "        if not self.l:\n",
    "            raise('stack is empty')\n",
    "        c = self.stack[self.l-1]\n",
    "        self.stack[self.l] = ctypes.py_object\n",
    "        self.l -= 1\n",
    "        return c\n",
    "    \n",
    "    def top(self):\n",
    "        \"\"\"\n",
    "        Show the top element of the stack\n",
    "        \"\"\"\n",
    "        return self.stack[self.l-1]\n",
    "    \n",
    "    def full(self):\n",
    "        \"\"\"\n",
    "        Is the stack full?\n",
    "        \"\"\"\n",
    "        return self.l == self.n\n",
    "        # if self.l == self.n:\n",
    "        #    return True\n",
    "        # return False\n",
    "\n",
    "    def empty(self):\n",
    "        \"\"\"\n",
    "        Is the stack empty?\n",
    "        \"\"\"\n",
    "        return self.l == 0\n",
    "        #if self.l == 0:\n",
    "        #    return True\n",
    "        #return False\n",
    "\n",
    "    def size(self):\n",
    "        \"\"\"\n",
    "        Return size of the stack\n",
    "        \"\"\"\n",
    "        return self.l"
   ]
  },
  {
   "cell_type": "code",
   "execution_count": 13,
   "id": "9f271491",
   "metadata": {},
   "outputs": [],
   "source": [
    "def rps(s):\n",
    "    extraScore = 0\n",
    "    score = 0\n",
    "    stack = Stack(len(s))\n",
    "    for c in s:\n",
    "        \n",
    "        if stack.empty():\n",
    "            stack.push(c)\n",
    "            \n",
    "        #empates    \n",
    "        elif (not stack.empty()) and (stack.top() == 1) and (c == 1):\n",
    "            \n",
    "            extraScore = extraScore + 3\n",
    "            score = score + c\n",
    "            stack.pop();\n",
    "            \n",
    "        elif (not stack.empty()) and (stack.top() == 2) and (c == 2):\n",
    "            \n",
    "            extraScore = extraScore + 3\n",
    "            score = score + c\n",
    "            stack.pop();\n",
    "\n",
    "        elif (not stack.empty()) and (stack.top() == 3) and (c == 3):\n",
    "            \n",
    "            extraScore = extraScore + 3\n",
    "            score = score + c\n",
    "            stack.pop();\n",
    "            \n",
    "            \n",
    "        #ganancias    \n",
    "        elif (not stack.empty()) and (stack.top() == 1) and (c == 2):\n",
    "            \n",
    "            extraScore = extraScore + 6\n",
    "            score = score + c\n",
    "            stack.pop();\n",
    "            \n",
    "        elif (not stack.empty()) and (stack.top() == 2) and (c == 3):\n",
    "            \n",
    "            extraScore = extraScore + 6\n",
    "            score = score + c\n",
    "            stack.pop();\n",
    "            \n",
    "        elif (not stack.empty()) and (stack.top() == 3) and (c == 1):\n",
    "            \n",
    "            extraScore = extraScore + 6\n",
    "            score = score + c\n",
    "            stack.pop();\n",
    "        \n",
    "        elif (not stack.empty()) and (stack.top() == 1) and (c == 3):\n",
    "            extraScore = extraScore + 0\n",
    "            score = score + c\n",
    "            stack.pop()\n",
    "            \n",
    "        elif (not stack.empty()) and (stack.top() == 2) and (c == 1):\n",
    "            extraScore = extraScore + 0\n",
    "            score = score + c\n",
    "            stack.pop()\n",
    "        \n",
    "        elif (not stack.empty()) and (stack.top() == 3) and (c == 2):\n",
    "            extraScore = extraScore + 0\n",
    "            score = score + c\n",
    "            stack.pop()\n",
    "            \n",
    "\n",
    "    return score + extraScore"
   ]
  },
  {
   "cell_type": "code",
   "execution_count": 14,
   "id": "1bd65e19",
   "metadata": {},
   "outputs": [
    {
     "data": {
      "text/plain": [
       "13052"
      ]
     },
     "execution_count": 14,
     "metadata": {},
     "output_type": "execute_result"
    }
   ],
   "source": [
    "rps(a)"
   ]
  },
  {
   "cell_type": "code",
   "execution_count": 15,
   "id": "651e5c1d",
   "metadata": {},
   "outputs": [],
   "source": [
    "def rpsFINAL(s):\n",
    "    extraScore = 0\n",
    "    score = 0\n",
    "    stack = Stack(len(s))\n",
    "    for c in s:\n",
    "        \n",
    "        if stack.empty():\n",
    "            stack.push(c)\n",
    "            \n",
    "        #PERDIDAS X    \n",
    "        elif (not stack.empty()) and (stack.top() == 1) and (c == 1):\n",
    "            \n",
    "            extraScore = extraScore + 0\n",
    "            score = score + 3\n",
    "            stack.pop();\n",
    "            \n",
    "        elif (not stack.empty()) and (stack.top() == 2) and (c == 1):\n",
    "            \n",
    "            extraScore = extraScore + 0\n",
    "            score = score + 1\n",
    "            stack.pop();\n",
    "\n",
    "        elif (not stack.empty()) and (stack.top() == 3) and (c == 1):\n",
    "            \n",
    "            extraScore = extraScore + 0\n",
    "            score = score + 2\n",
    "            stack.pop();\n",
    "            \n",
    "            \n",
    "        #EMPATES Y    \n",
    "        elif (not stack.empty()) and (stack.top() == 1) and (c == 2):\n",
    "            \n",
    "            extraScore = extraScore + 3\n",
    "            score = score + 1\n",
    "            stack.pop();\n",
    "            \n",
    "        elif (not stack.empty()) and (stack.top() == 2) and (c == 2):\n",
    "            \n",
    "            extraScore = extraScore + 3\n",
    "            score = score + 2\n",
    "            stack.pop();\n",
    "            \n",
    "        elif (not stack.empty()) and (stack.top() == 3) and (c == 2):\n",
    "            \n",
    "            extraScore = extraScore + 3\n",
    "            score = score + 3\n",
    "            stack.pop();\n",
    "            \n",
    "        #GANANCIAS Z\n",
    "        elif (not stack.empty()) and (stack.top() == 1) and (c == 3):\n",
    "            extraScore = extraScore + 6\n",
    "            score = score + 2\n",
    "            stack.pop()\n",
    "            \n",
    "        elif (not stack.empty()) and (stack.top() == 2) and (c == 3):\n",
    "            extraScore = extraScore + 6\n",
    "            score = score + 3\n",
    "            stack.pop()\n",
    "        \n",
    "        elif (not stack.empty()) and (stack.top() == 3) and (c == 3):\n",
    "            extraScore = extraScore + 6\n",
    "            score = score + 1\n",
    "            stack.pop()\n",
    "            \n",
    "\n",
    "    return score + extraScore"
   ]
  },
  {
   "cell_type": "code",
   "execution_count": 16,
   "id": "70f9af83",
   "metadata": {},
   "outputs": [
    {
     "data": {
      "text/plain": [
       "13693"
      ]
     },
     "execution_count": 16,
     "metadata": {},
     "output_type": "execute_result"
    }
   ],
   "source": [
    "rpsFINAL(a)"
   ]
  },
  {
   "cell_type": "code",
   "execution_count": null,
   "id": "b1667707",
   "metadata": {},
   "outputs": [],
   "source": []
  }
 ],
 "metadata": {
  "kernelspec": {
   "display_name": "Python 3 (ipykernel)",
   "language": "python",
   "name": "python3"
  },
  "language_info": {
   "codemirror_mode": {
    "name": "ipython",
    "version": 3
   },
   "file_extension": ".py",
   "mimetype": "text/x-python",
   "name": "python",
   "nbconvert_exporter": "python",
   "pygments_lexer": "ipython3",
   "version": "3.9.7"
  }
 },
 "nbformat": 4,
 "nbformat_minor": 5
}
