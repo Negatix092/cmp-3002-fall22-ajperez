{
 "cells": [
  {
   "cell_type": "code",
   "execution_count": 1,
   "id": "00fa6680",
   "metadata": {},
   "outputs": [],
   "source": [
    "import time\n",
    "import pandas as pd\n",
    "import numpy as np\n",
    "import matplotlib.pyplot as plt\n",
    "%matplotlib inline"
   ]
  },
  {
   "cell_type": "code",
   "execution_count": 10,
   "id": "a94fd3cb",
   "metadata": {},
   "outputs": [
    {
     "data": {
      "text/plain": [
       "300"
      ]
     },
     "execution_count": 10,
     "metadata": {},
     "output_type": "execute_result"
    }
   ],
   "source": [
    "f = open(\"input3.txt\", \"r\")\n",
    "c = 0\n",
    "linea = []\n",
    "for x in f:\n",
    "    c += 1\n",
    "    linea.append(x.strip())\n",
    "c"
   ]
  },
  {
   "cell_type": "code",
   "execution_count": 12,
   "id": "51f13d82",
   "metadata": {},
   "outputs": [
    {
     "data": {
      "text/plain": [
       "list"
      ]
     },
     "execution_count": 12,
     "metadata": {},
     "output_type": "execute_result"
    }
   ],
   "source": [
    "final = []\n",
    "e1 = []\n",
    "e2 = []\n",
    "e3 = []\n",
    "\n",
    "for i in range(0,len(linea),3):\n",
    "    e1 = linea[i]\n",
    "    e2 = linea[i+1]\n",
    "    e3 = linea[i+2]\n",
    "    \n",
    "    for x in e1:\n",
    "        if (x in e2) and (x in e3):\n",
    "            final.append(x)\n",
    "            break\n",
    "type(final)"
   ]
  },
  {
   "cell_type": "code",
   "execution_count": 15,
   "id": "77f0dc68",
   "metadata": {},
   "outputs": [],
   "source": [
    "def alphabetposition(s):\n",
    "    sg = []\n",
    "    for i in s:\n",
    "        if (i.isalpha()) and (i.islower()):#vemos si es letra y si es minuscula\n",
    "            sg.append(ord(i)-96)#ord nos dice el valor en ascii de la letra\n",
    "        elif (i.isalpha()) and (i.isupper()):\n",
    "            sg.append(ord(i)-38)\n",
    "    return sg #devolvemos sin espacio al final"
   ]
  },
  {
   "cell_type": "code",
   "execution_count": 17,
   "id": "a68d6593",
   "metadata": {},
   "outputs": [
    {
     "data": {
      "text/plain": [
       "2577"
      ]
     },
     "execution_count": 17,
     "metadata": {},
     "output_type": "execute_result"
    }
   ],
   "source": [
    "casir = alphabetposition(final)\n",
    "sum(casir)"
   ]
  },
  {
   "cell_type": "code",
   "execution_count": null,
   "id": "22070dc3",
   "metadata": {},
   "outputs": [],
   "source": []
  }
 ],
 "metadata": {
  "kernelspec": {
   "display_name": "Python 3 (ipykernel)",
   "language": "python",
   "name": "python3"
  },
  "language_info": {
   "codemirror_mode": {
    "name": "ipython",
    "version": 3
   },
   "file_extension": ".py",
   "mimetype": "text/x-python",
   "name": "python",
   "nbconvert_exporter": "python",
   "pygments_lexer": "ipython3",
   "version": "3.9.7"
  }
 },
 "nbformat": 4,
 "nbformat_minor": 5
}
