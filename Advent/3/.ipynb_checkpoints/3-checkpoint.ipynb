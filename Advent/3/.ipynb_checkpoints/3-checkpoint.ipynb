{
 "cells": [
  {
   "cell_type": "code",
   "execution_count": 1,
   "id": "f72ab675",
   "metadata": {},
   "outputs": [],
   "source": [
    "import time\n",
    "import pandas as pd\n",
    "import numpy as np\n",
    "import matplotlib.pyplot as plt\n",
    "%matplotlib inline"
   ]
  },
  {
   "cell_type": "code",
   "execution_count": 10,
   "id": "5f2f49a2",
   "metadata": {},
   "outputs": [
    {
     "data": {
      "text/plain": [
       "300"
      ]
     },
     "execution_count": 10,
     "metadata": {},
     "output_type": "execute_result"
    }
   ],
   "source": [
    "f = open(\"input3.txt\", \"r\")\n",
    "c = 0\n",
    "linea = []\n",
    "for x in f:\n",
    "    c += 1\n",
    "    linea.append(x.strip())\n",
    "c"
   ]
  },
  {
   "cell_type": "code",
   "execution_count": 52,
   "id": "fb654d2f",
   "metadata": {},
   "outputs": [
    {
     "data": {
      "text/plain": [
       "list"
      ]
     },
     "execution_count": 52,
     "metadata": {},
     "output_type": "execute_result"
    }
   ],
   "source": [
    "final = []\n",
    "temp = []\n",
    "temp2 = []\n",
    "actual = []\n",
    "wa = 0\n",
    "\n",
    "for i in range(0,len(linea)):\n",
    "    actual = linea[i]\n",
    "    temp = actual[:len(linea[i])//2]\n",
    "    temp2 = actual[len(linea[i])//2:]\n",
    "    \n",
    "    for x in temp:\n",
    "        if x in temp2:\n",
    "            wa += 1\n",
    "            final.append(x)\n",
    "            break\n",
    "type(final)"
   ]
  },
  {
   "cell_type": "code",
   "execution_count": 55,
   "id": "b9043eb9",
   "metadata": {},
   "outputs": [],
   "source": [
    "def alphabetposition(s):\n",
    "    sg = []\n",
    "    for i in s:\n",
    "        if (i.isalpha()) and (i.islower()):#vemos si es letra y si es minuscula\n",
    "            sg.append(ord(i)-96)#ord nos dice el valor en ascii de la letra\n",
    "        elif (i.isalpha()) and (i.isupper()):\n",
    "            sg.append(ord(i)-38)\n",
    "    return sg #devolvemos sin espacio al final"
   ]
  },
  {
   "cell_type": "code",
   "execution_count": 56,
   "id": "8836a322",
   "metadata": {},
   "outputs": [
    {
     "data": {
      "text/plain": [
       "7826"
      ]
     },
     "execution_count": 56,
     "metadata": {},
     "output_type": "execute_result"
    }
   ],
   "source": [
    "casir = alphabetposition(final)\n",
    "sum(casir)"
   ]
  },
  {
   "cell_type": "code",
   "execution_count": null,
   "id": "928b759a",
   "metadata": {},
   "outputs": [],
   "source": []
  }
 ],
 "metadata": {
  "kernelspec": {
   "display_name": "Python 3 (ipykernel)",
   "language": "python",
   "name": "python3"
  },
  "language_info": {
   "codemirror_mode": {
    "name": "ipython",
    "version": 3
   },
   "file_extension": ".py",
   "mimetype": "text/x-python",
   "name": "python",
   "nbconvert_exporter": "python",
   "pygments_lexer": "ipython3",
   "version": "3.9.7"
  }
 },
 "nbformat": 4,
 "nbformat_minor": 5
}
