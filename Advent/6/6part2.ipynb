{
 "cells": [
  {
   "cell_type": "code",
   "execution_count": 1,
   "id": "867a9498",
   "metadata": {},
   "outputs": [],
   "source": [
    "import time\n",
    "import pandas as pd\n",
    "import numpy as np\n",
    "import matplotlib.pyplot as plt\n",
    "import re \n",
    "%matplotlib inline  "
   ]
  },
  {
   "cell_type": "code",
   "execution_count": 2,
   "id": "ffc6b644",
   "metadata": {},
   "outputs": [],
   "source": [
    "f = open(\"input6.txt\", \"r\").read()\n",
    "char_list = list(f)"
   ]
  },
  {
   "cell_type": "code",
   "execution_count": 3,
   "id": "12ae66f0",
   "metadata": {},
   "outputs": [
    {
     "data": {
      "text/plain": [
       "4095"
      ]
     },
     "execution_count": 3,
     "metadata": {},
     "output_type": "execute_result"
    }
   ],
   "source": [
    "len(char_list)"
   ]
  },
  {
   "cell_type": "code",
   "execution_count": 24,
   "id": "c8033ad3",
   "metadata": {},
   "outputs": [],
   "source": [
    "aux = [char_list[0]]\n",
    "c = 0\n",
    "r = []\n",
    "\n",
    "for i in range(1,len(char_list)):\n",
    "    if len(aux)==14:\n",
    "        break\n",
    "    elif char_list[i] in aux:\n",
    "        r.append(char_list[i])\n",
    "    else:\n",
    "        aux.append(char_list[i])"
   ]
  },
  {
   "cell_type": "code",
   "execution_count": 25,
   "id": "e105793f",
   "metadata": {},
   "outputs": [
    {
     "data": {
      "text/plain": [
       "14"
      ]
     },
     "execution_count": 25,
     "metadata": {},
     "output_type": "execute_result"
    }
   ],
   "source": [
    "len(aux)"
   ]
  },
  {
   "cell_type": "code",
   "execution_count": 26,
   "id": "be55957d",
   "metadata": {},
   "outputs": [
    {
     "data": {
      "text/plain": [
       "39"
      ]
     },
     "execution_count": 26,
     "metadata": {},
     "output_type": "execute_result"
    }
   ],
   "source": [
    "i"
   ]
  },
  {
   "cell_type": "code",
   "execution_count": 27,
   "id": "30f7f5b4",
   "metadata": {},
   "outputs": [
    {
     "name": "stdout",
     "output_type": "stream",
     "text": [
      "2635\n"
     ]
    }
   ],
   "source": [
    "x=open(\"input6.txt\", \"r\").read()\n",
    "\n",
    "\n",
    "a=list(x[:14])\n",
    "\n",
    "for i in range(14,len(x)):\n",
    "    if len(set(a))==14:\n",
    "        print(i)\n",
    "        break\n",
    "    a.pop(0)\n",
    "    a.append(x[i])"
   ]
  },
  {
   "cell_type": "code",
   "execution_count": 28,
   "id": "9eda4089",
   "metadata": {},
   "outputs": [
    {
     "data": {
      "text/plain": [
       "['j', 'f', 'b', 'g', 'p', 'w', 'h', 'l', 'r', 'z', 'd', 'q', 'n', 'c']"
      ]
     },
     "execution_count": 28,
     "metadata": {},
     "output_type": "execute_result"
    }
   ],
   "source": [
    "a"
   ]
  },
  {
   "cell_type": "code",
   "execution_count": null,
   "id": "f8c98f2f",
   "metadata": {},
   "outputs": [],
   "source": []
  }
 ],
 "metadata": {
  "kernelspec": {
   "display_name": "Python 3 (ipykernel)",
   "language": "python",
   "name": "python3"
  },
  "language_info": {
   "codemirror_mode": {
    "name": "ipython",
    "version": 3
   },
   "file_extension": ".py",
   "mimetype": "text/x-python",
   "name": "python",
   "nbconvert_exporter": "python",
   "pygments_lexer": "ipython3",
   "version": "3.9.7"
  }
 },
 "nbformat": 4,
 "nbformat_minor": 5
}
