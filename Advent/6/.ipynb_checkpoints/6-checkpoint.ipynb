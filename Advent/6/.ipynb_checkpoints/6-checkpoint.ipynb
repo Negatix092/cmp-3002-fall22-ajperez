{
 "cells": [
  {
   "cell_type": "code",
   "execution_count": 55,
   "id": "9c6971df",
   "metadata": {},
   "outputs": [],
   "source": [
    "import time\n",
    "import pandas as pd\n",
    "import numpy as np\n",
    "import matplotlib.pyplot as plt\n",
    "import re \n",
    "%matplotlib inline  "
   ]
  },
  {
   "cell_type": "code",
   "execution_count": 56,
   "id": "812e89c0",
   "metadata": {},
   "outputs": [],
   "source": [
    "f = open(\"input6.txt\", \"r\").read()\n",
    "char_list = list(f)"
   ]
  },
  {
   "cell_type": "code",
   "execution_count": 57,
   "id": "cf19eaac",
   "metadata": {},
   "outputs": [
    {
     "data": {
      "text/plain": [
       "4095"
      ]
     },
     "execution_count": 57,
     "metadata": {},
     "output_type": "execute_result"
    }
   ],
   "source": [
    "len(char_list)"
   ]
  },
  {
   "cell_type": "code",
   "execution_count": 58,
   "id": "99efbb43",
   "metadata": {},
   "outputs": [
    {
     "data": {
      "text/plain": [
       "['s', 'p', 'r', 'm']"
      ]
     },
     "execution_count": 58,
     "metadata": {},
     "output_type": "execute_result"
    }
   ],
   "source": [
    "aux = []\n",
    "c = 0\n",
    "b = []\n",
    "for i in range(0,len(char_list)-3):\n",
    "    for j in range(i,i+4):\n",
    "        aux = char_list[i:i+4]\n",
    "    #print(aux)\n",
    "    if len(aux)==len(set(aux)):\n",
    "        b = aux\n",
    "        break\n",
    "                \n",
    "b"
   ]
  },
  {
   "cell_type": "code",
   "execution_count": 59,
   "id": "e6fa63ff",
   "metadata": {},
   "outputs": [
    {
     "data": {
      "text/plain": [
       "1775"
      ]
     },
     "execution_count": 59,
     "metadata": {},
     "output_type": "execute_result"
    }
   ],
   "source": [
    "i"
   ]
  },
  {
   "cell_type": "code",
   "execution_count": 60,
   "id": "33b7972d",
   "metadata": {},
   "outputs": [
    {
     "data": {
      "text/plain": [
       "'m'"
      ]
     },
     "execution_count": 60,
     "metadata": {},
     "output_type": "execute_result"
    }
   ],
   "source": [
    "char_list[1778]"
   ]
  },
  {
   "cell_type": "code",
   "execution_count": null,
   "id": "65975b3a",
   "metadata": {},
   "outputs": [],
   "source": []
  }
 ],
 "metadata": {
  "kernelspec": {
   "display_name": "Python 3 (ipykernel)",
   "language": "python",
   "name": "python3"
  },
  "language_info": {
   "codemirror_mode": {
    "name": "ipython",
    "version": 3
   },
   "file_extension": ".py",
   "mimetype": "text/x-python",
   "name": "python",
   "nbconvert_exporter": "python",
   "pygments_lexer": "ipython3",
   "version": "3.9.7"
  }
 },
 "nbformat": 4,
 "nbformat_minor": 5
}
