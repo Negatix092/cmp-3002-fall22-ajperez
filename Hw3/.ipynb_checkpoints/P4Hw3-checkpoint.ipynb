{
 "cells": [
  {
   "cell_type": "code",
   "execution_count": 55,
   "id": "a81b16a6",
   "metadata": {},
   "outputs": [],
   "source": [
    "import time\n",
    "import pandas as pd\n",
    "import numpy as np\n",
    "import matplotlib.pyplot as plt\n",
    "%matplotlib inline"
   ]
  },
  {
   "cell_type": "markdown",
   "id": "c6dc9688",
   "metadata": {},
   "source": [
    "# Homework 3 - Alex Perez - Data Structures\n",
    "\n",
    "## 4. Implement factorials with recursion\n",
    "\n",
    "Recall that a factorial number is defined as:\n",
    "\n",
    "$k! = k \\times (k-1) \\times (k-2) \\times ... \\times 2 \\times 1$\n",
    "\n",
    "For example: $3! = 3 \\times 2 \\times 1 = 6$\n",
    "\n",
    "1. Use recursion to implement the factorial"
   ]
  },
  {
   "cell_type": "code",
   "execution_count": 2,
   "id": "1385f957",
   "metadata": {},
   "outputs": [],
   "source": [
    "def factorial(n):\n",
    "    \n",
    "    if n>1:\n",
    "        result = n*factorial(n-1)\n",
    "        return result\n",
    "    else:\n",
    "        return 1"
   ]
  },
  {
   "cell_type": "code",
   "execution_count": 57,
   "id": "a36682a1",
   "metadata": {},
   "outputs": [
    {
     "data": {
      "text/plain": [
       "5040"
      ]
     },
     "execution_count": 57,
     "metadata": {},
     "output_type": "execute_result"
    }
   ],
   "source": [
    "factorial(7)"
   ]
  },
  {
   "cell_type": "code",
   "execution_count": 75,
   "id": "a050386a",
   "metadata": {},
   "outputs": [
    {
     "data": {
      "text/plain": [
       "120"
      ]
     },
     "execution_count": 75,
     "metadata": {},
     "output_type": "execute_result"
    }
   ],
   "source": [
    "factorial(5)"
   ]
  },
  {
   "cell_type": "code",
   "execution_count": 76,
   "id": "bc87f6fc",
   "metadata": {},
   "outputs": [
    {
     "data": {
      "text/plain": [
       "40320"
      ]
     },
     "execution_count": 76,
     "metadata": {},
     "output_type": "execute_result"
    }
   ],
   "source": [
    "factorial(8)"
   ]
  },
  {
   "cell_type": "markdown",
   "id": "5a6f5900",
   "metadata": {},
   "source": [
    "2. Run your code for numbers between 1 and 10000\n",
    "\n",
    "Python will return an error if we try to execute this recursive function, factorial, for large numbers such as 10000. Because of this, the limit of the calculations tried in this Homework will be 1000, so Python won't return any errors as before. \n",
    "\n",
    "In order to prove that the method is working, the following for loop will only display the first result of the first 20 numbers. Iis in question 3 that the code is executed for numbers between 1 and 1000. "
   ]
  },
  {
   "cell_type": "code",
   "execution_count": 5,
   "id": "0a52d1dd",
   "metadata": {},
   "outputs": [
    {
     "name": "stdout",
     "output_type": "stream",
     "text": [
      "1\n",
      "2\n",
      "6\n",
      "24\n",
      "120\n",
      "720\n",
      "5040\n",
      "40320\n",
      "362880\n",
      "3628800\n",
      "39916800\n",
      "479001600\n",
      "6227020800\n",
      "87178291200\n",
      "1307674368000\n",
      "20922789888000\n",
      "355687428096000\n",
      "6402373705728000\n",
      "121645100408832000\n"
     ]
    }
   ],
   "source": [
    "for i in range (1,20):\n",
    "    print(factorial(i))"
   ]
  },
  {
   "cell_type": "markdown",
   "id": "16201920",
   "metadata": {},
   "source": [
    "3. Calculate the execution time and plot it"
   ]
  },
  {
   "cell_type": "code",
   "execution_count": 103,
   "id": "59df2a34",
   "metadata": {},
   "outputs": [],
   "source": [
    "from time import time\n",
    "\n",
    "def timer_func(func):\n",
    "    def wrap_func(*args, **kwargs):\n",
    "        \n",
    "        t1 = time()*10**6\n",
    "        result = func(*args, **kwargs)\n",
    "        t2 = time()*10**6\n",
    "        \n",
    "        return t2-t1\n",
    "    \n",
    "    return wrap_func \n",
    "\n",
    "@timer_func\n",
    "def factorialTime(n):\n",
    "    \n",
    "    if n>1:\n",
    "        result = n*factorialB(n-1)\n",
    "        return result\n",
    "    else:\n",
    "        return 1"
   ]
  },
  {
   "cell_type": "code",
   "execution_count": 104,
   "id": "5b4e5be0",
   "metadata": {},
   "outputs": [],
   "source": [
    "total_time = list()\n",
    "\n",
    "for i in range(1,1001):\n",
    "    \n",
    "    total_time.append(factorialTime(i))"
   ]
  },
  {
   "cell_type": "code",
   "execution_count": 105,
   "id": "b0363a7c",
   "metadata": {},
   "outputs": [],
   "source": [
    "df = pd.DataFrame()\n",
    "df['time'] = total_time"
   ]
  },
  {
   "cell_type": "code",
   "execution_count": 106,
   "id": "f61418cc",
   "metadata": {},
   "outputs": [
    {
     "data": {
      "image/png": "[encoded data removed]",
      "text/plain": [
       "<Figure size 432x288 with 1 Axes>"
      ]
     },
     "metadata": {
      "needs_background": "light"
     },
     "output_type": "display_data"
    }
   ],
   "source": [
    "df.plot()\n",
    "plt.grid()"
   ]
  },
  {
   "cell_type": "markdown",
   "id": "55bb2bb1",
   "metadata": {},
   "source": [
    "3. What's the complexity?\n",
    "\n",
    "From the plot, it can be seen that the complexity follows a linear growth. If instead of 1000 operations, 100 operations are executed, the plot will look like this:"
   ]
  },
  {
   "cell_type": "code",
   "execution_count": 115,
   "id": "be64cbab",
   "metadata": {},
   "outputs": [
    {
     "data": {
      "image/png": "[encoded data removed]",
      "text/plain": [
       "<Figure size 432x288 with 1 Axes>"
      ]
     },
     "metadata": {
      "needs_background": "light"
     },
     "output_type": "display_data"
    }
   ],
   "source": [
    "total_time = list()\n",
    "\n",
    "for i in range(1,101):\n",
    "    \n",
    "    total_time.append(factorialTime(i))\n",
    "    \n",
    "df = pd.DataFrame()\n",
    "df['time'] = total_time\n",
    "df.plot()\n",
    "plt.grid()"
   ]
  },
  {
   "cell_type": "markdown",
   "id": "0a176f19",
   "metadata": {},
   "source": [
    "Where, again, the plot follows a linear growth $O(n)$. "
   ]
  },
  {
   "cell_type": "markdown",
   "id": "63e91b64",
   "metadata": {},
   "source": [
    "5. Implement memoization to improve the performance of your code"
   ]
  },
  {
   "cell_type": "code",
   "execution_count": 116,
   "id": "1765a6a0",
   "metadata": {},
   "outputs": [],
   "source": [
    "def memoize_factorial(n):\n",
    "    \n",
    "    cache = {}\n",
    "    \n",
    "    def factorial(n):\n",
    "        if n in cache.keys():\n",
    "            return cache[n]\n",
    "        \n",
    "        if n>1:\n",
    "            result = n*factorial(n-1)\n",
    "        \n",
    "        else:\n",
    "            return 1\n",
    "        \n",
    "        cache[n]=result\n",
    "        return result\n",
    "    return factorial(n)"
   ]
  },
  {
   "cell_type": "code",
   "execution_count": 117,
   "id": "72007edf",
   "metadata": {},
   "outputs": [
    {
     "data": {
      "text/plain": [
       "5040"
      ]
     },
     "execution_count": 117,
     "metadata": {},
     "output_type": "execute_result"
    }
   ],
   "source": [
    "memoize_factorial(7)"
   ]
  },
  {
   "cell_type": "code",
   "execution_count": 118,
   "id": "11e0ced6",
   "metadata": {},
   "outputs": [
    {
     "data": {
      "text/plain": [
       "40320"
      ]
     },
     "execution_count": 118,
     "metadata": {},
     "output_type": "execute_result"
    }
   ],
   "source": [
    "memoize_factorial(8)"
   ]
  },
  {
   "cell_type": "code",
   "execution_count": 119,
   "id": "145cb2bf",
   "metadata": {},
   "outputs": [
    {
     "data": {
      "text/plain": [
       "120"
      ]
     },
     "execution_count": 119,
     "metadata": {},
     "output_type": "execute_result"
    }
   ],
   "source": [
    "memoize_factorial(5)"
   ]
  },
  {
   "cell_type": "markdown",
   "id": "2120d5e3",
   "metadata": {},
   "source": [
    "6. Measure the runtime when you calculate the factorial for numbers between 1 and 10000.\n",
    "\n",
    "Again, the code will calculate the factorial for numbers between 1 and 1000."
   ]
  },
  {
   "cell_type": "code",
   "execution_count": 120,
   "id": "58d0a605",
   "metadata": {},
   "outputs": [],
   "source": [
    "@timer_func\n",
    "def memoize_factorialTime(n):\n",
    "    \n",
    "    cache = {}\n",
    "    \n",
    "    def factorial(n):\n",
    "        if n in cache.keys():\n",
    "            return cache[n]\n",
    "        \n",
    "        if n>1:\n",
    "            result = n*factorial(n-1)\n",
    "        \n",
    "        else:\n",
    "            return 1\n",
    "        \n",
    "        cache[n]=result\n",
    "        return result\n",
    "    return factorial(n)"
   ]
  },
  {
   "cell_type": "code",
   "execution_count": 126,
   "id": "9dd4145f",
   "metadata": {},
   "outputs": [
    {
     "data": {
      "image/png": "[encoded data removed]",
      "text/plain": [
       "<Figure size 432x288 with 1 Axes>"
      ]
     },
     "metadata": {
      "needs_background": "light"
     },
     "output_type": "display_data"
    }
   ],
   "source": [
    "total_time = list()\n",
    "\n",
    "for i in range(1,1001):\n",
    "    \n",
    "    total_time.append(memoize_factorialTime(i))\n",
    "    \n",
    "df = pd.DataFrame()\n",
    "df['time using M'] = total_time\n",
    "df.plot()\n",
    "plt.grid()"
   ]
  },
  {
   "cell_type": "code",
   "execution_count": 129,
   "id": "26f6165a",
   "metadata": {},
   "outputs": [
    {
     "data": {
      "image/png": "[encoded data removed]",
      "text/plain": [
       "<Figure size 432x288 with 1 Axes>"
      ]
     },
     "metadata": {
      "needs_background": "light"
     },
     "output_type": "display_data"
    }
   ],
   "source": [
    "total_time = list()\n",
    "\n",
    "for i in range(1,101):\n",
    "    \n",
    "    total_time.append(memoize_factorialTime(i))\n",
    "    \n",
    "df = pd.DataFrame()\n",
    "df['time using M'] = total_time\n",
    "df.plot()\n",
    "plt.grid()"
   ]
  },
  {
   "cell_type": "markdown",
   "id": "7f85356d",
   "metadata": {},
   "source": [
    "7. What's the complexity of your code using memoization?\n",
    "\n",
    "From the plot, it can be seen that the complexity follows a linear growht $O(n/2) \\approx O(n)$."
   ]
  },
  {
   "cell_type": "markdown",
   "id": "4718b35f",
   "metadata": {},
   "source": [
    "8. How does the first implementation and the one with memoization compare?\n",
    "\n",
    "After analyzing the results, stating the complexity using memoization seems a bit wrong. By first attempt, following the growth showed in the plot, it seems that it also has a linear growth. But, given it a little more thought and executing the factorial using memoization, we get the next following comparisons:"
   ]
  },
  {
   "cell_type": "code",
   "execution_count": 164,
   "id": "88ebf958",
   "metadata": {},
   "outputs": [
    {
     "data": {
      "text/plain": [
       "24.75"
      ]
     },
     "execution_count": 164,
     "metadata": {},
     "output_type": "execute_result"
    }
   ],
   "source": [
    "factorialTime(10)"
   ]
  },
  {
   "cell_type": "code",
   "execution_count": 165,
   "id": "40fe5d47",
   "metadata": {},
   "outputs": [
    {
     "data": {
      "text/plain": [
       "20.25"
      ]
     },
     "execution_count": 165,
     "metadata": {},
     "output_type": "execute_result"
    }
   ],
   "source": [
    "memoize_factorialTime(10)"
   ]
  },
  {
   "cell_type": "code",
   "execution_count": 166,
   "id": "0f3d95d4",
   "metadata": {},
   "outputs": [
    {
     "data": {
      "text/plain": [
       "177.0"
      ]
     },
     "execution_count": 166,
     "metadata": {},
     "output_type": "execute_result"
    }
   ],
   "source": [
    "factorialTime(100)"
   ]
  },
  {
   "cell_type": "code",
   "execution_count": 167,
   "id": "d7beae48",
   "metadata": {},
   "outputs": [
    {
     "data": {
      "text/plain": [
       "130.75"
      ]
     },
     "execution_count": 167,
     "metadata": {},
     "output_type": "execute_result"
    }
   ],
   "source": [
    "memoize_factorialTime(100)"
   ]
  },
  {
   "cell_type": "code",
   "execution_count": 168,
   "id": "1c0f69e5",
   "metadata": {},
   "outputs": [
    {
     "data": {
      "text/plain": [
       "913.25"
      ]
     },
     "execution_count": 168,
     "metadata": {},
     "output_type": "execute_result"
    }
   ],
   "source": [
    "factorialTime(500)"
   ]
  },
  {
   "cell_type": "code",
   "execution_count": 169,
   "id": "c16ffda5",
   "metadata": {},
   "outputs": [
    {
     "data": {
      "text/plain": [
       "614.0"
      ]
     },
     "execution_count": 169,
     "metadata": {},
     "output_type": "execute_result"
    }
   ],
   "source": [
    "memoize_factorialTime(500)"
   ]
  },
  {
   "cell_type": "code",
   "execution_count": 170,
   "id": "b5aa47ec",
   "metadata": {},
   "outputs": [
    {
     "data": {
      "text/plain": [
       "2160.0"
      ]
     },
     "execution_count": 170,
     "metadata": {},
     "output_type": "execute_result"
    }
   ],
   "source": [
    "factorialTime(1000)"
   ]
  },
  {
   "cell_type": "code",
   "execution_count": 171,
   "id": "f033b4cd",
   "metadata": {},
   "outputs": [
    {
     "data": {
      "text/plain": [
       "1632.0"
      ]
     },
     "execution_count": 171,
     "metadata": {},
     "output_type": "execute_result"
    }
   ],
   "source": [
    "memoize_factorialTime(1000)"
   ]
  },
  {
   "cell_type": "markdown",
   "id": "7a52e887",
   "metadata": {},
   "source": [
    "Eventhough the rumtime follows a linear growth, it is clear that using memoization is a more efficient and faster implementation of the factorial method using recurssion. "
   ]
  },
  {
   "cell_type": "code",
   "execution_count": null,
   "id": "4c5263b6",
   "metadata": {},
   "outputs": [],
   "source": []
  }
 ],
 "metadata": {
  "kernelspec": {
   "display_name": "Python 3 (ipykernel)",
   "language": "python",
   "name": "python3"
  },
  "language_info": {
   "codemirror_mode": {
    "name": "ipython",
    "version": 3
   },
   "file_extension": ".py",
   "mimetype": "text/x-python",
   "name": "python",
   "nbconvert_exporter": "python",
   "pygments_lexer": "ipython3",
   "version": "3.9.7"
  }
 },
 "nbformat": 4,
 "nbformat_minor": 5
}
