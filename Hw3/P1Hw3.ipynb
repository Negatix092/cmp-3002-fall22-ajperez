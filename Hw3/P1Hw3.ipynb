{
 "cells": [
  {
   "cell_type": "code",
   "execution_count": 173,
   "id": "e2d1db1f",
   "metadata": {},
   "outputs": [],
   "source": [
    "import time\n",
    "import pandas as pd\n",
    "import numpy as np\n",
    "import matplotlib.pyplot as plt\n",
    "%matplotlib inline"
   ]
  },
  {
   "cell_type": "code",
   "execution_count": 242,
   "id": "e2b2f751",
   "metadata": {},
   "outputs": [],
   "source": [
    "from time import time\n",
    "\n",
    "def timer_func(func):\n",
    "    def wrap_func(*args, **kwargs):\n",
    "        t1 = time()*10**6\n",
    "        result = func(*args, **kwargs)\n",
    "        t2 = time()*10**6\n",
    "        print(f'Function {func.__name__!r} executed in {(t2-t1):.4f} micro seconds (10^-6)')\n",
    "        return result\n",
    "    #here the result of my function and the time elapsed between its stard and end points will be returned\n",
    "    return wrap_func #python decorators allow these to be used in other functions\n",
    "\n"
   ]
  },
  {
   "cell_type": "markdown",
   "id": "78a17340",
   "metadata": {},
   "source": [
    "# Homework 3 - Alex Perez - Data Structures\n",
    "\n",
    "## 1. Merge two sorted lists\n",
    "\n",
    "1. Assume you have two sorted linked lists. Use **recursion** to merge these lists and return a new sorted list."
   ]
  },
  {
   "cell_type": "code",
   "execution_count": 243,
   "id": "a5a06ed0",
   "metadata": {},
   "outputs": [],
   "source": [
    "class Node:\n",
    "    \"\"\"\n",
    "    Implementation of a node\n",
    "    \"\"\"\n",
    "    def __init__(self, val=None):\n",
    "        self.val = val\n",
    "        self.next_node = None\n",
    "    \n",
    "    def set_next_node(self, next_node):\n",
    "        self.next_node = next_node\n",
    "        \n",
    "class Singly_linked_list:\n",
    "    \"\"\"\n",
    "    Implementation of a singly linked list\n",
    "    \"\"\"\n",
    "    def __init__(self, head_node=None):\n",
    "        self.head_node = head_node\n",
    "        \n",
    "    def list_traversed(self):\n",
    "        node = self.head_node\n",
    "        while node:\n",
    "            print(node.val)\n",
    "            node = node.next_node\n",
    "            \n",
    "class Singly_linked_list(Singly_linked_list):\n",
    "    \n",
    "    @timer_func\n",
    "    def insert_head(self, new_node):\n",
    "        # insert to the head\n",
    "        # A -> B -> null\n",
    "        # R -> A -> B -> null \n",
    "        new_node.set_next_node(self.head_node)\n",
    "        self.head_node = new_node\n",
    "        \n",
    "    @timer_func\n",
    "    def insert_tail(self, new_node):\n",
    "        # insert to the tail\n",
    "        # A -> B -> null\n",
    "        # A -> B -> R -> null \n",
    "        node = self.head_node\n",
    "        prev = None\n",
    "        while node:\n",
    "            prev = node\n",
    "            node = node.next_node\n",
    "        prev.set_next_node(new_node)\n",
    "        \n",
    "    @timer_func\n",
    "    def insert_middle(self, new_node, value):\n",
    "        # insert in the middle\n",
    "        # A -> B -> C -> null\n",
    "        # A -> B -> R -> C -> null\n",
    "        node = self.head_node\n",
    "        while node.val != value:\n",
    "            node = node.next_node\n",
    "        if node:\n",
    "            new_node.set_next_node(node.next_node)\n",
    "            node.set_next_node(new_node)\n",
    "        else:\n",
    "            self.insert_tail(new_node)"
   ]
  },
  {
   "cell_type": "code",
   "execution_count": 248,
   "id": "30243efe",
   "metadata": {},
   "outputs": [],
   "source": [
    "#@timer_func\n",
    "def mergeLists(node_l1, node_l2):\n",
    "\n",
    "    new_node = None\n",
    "    l = Singly_linked_list()\n",
    "    \n",
    "    if node_l1 is None:\n",
    "        return node_l2\n",
    "\n",
    "    if node_l2 is None:\n",
    "        return node_l1\n",
    "    \n",
    "    if node_l1.val <= node_l2.val:\n",
    "        new_node = node_l1\n",
    "        new_node.next_node = mergeLists(node_l1.next_node, node_l2)\n",
    "\n",
    "    else:\n",
    "        new_node = node_l2\n",
    "        new_node.next_node = mergeLists(node_l1, node_l2.next_node)\n",
    "        \n",
    "    #l = Singly_linked_list(new_node)\n",
    "        \n",
    "    return new_node"
   ]
  },
  {
   "cell_type": "code",
   "execution_count": 249,
   "id": "93ee6b75",
   "metadata": {},
   "outputs": [
    {
     "name": "stdout",
     "output_type": "stream",
     "text": [
      "1\n",
      "3\n",
      "8\n",
      "15\n"
     ]
    }
   ],
   "source": [
    "m1 = Node(1)\n",
    "m2 = Node(3)\n",
    "m3 = Node(8)\n",
    "m4 = Node(15)\n",
    "\n",
    "m1.set_next_node(m2)\n",
    "m2.set_next_node(m3)\n",
    "m3.set_next_node(m4)\n",
    "\n",
    "list1 = Singly_linked_list(m1)\n",
    "\n",
    "list1.list_traversed()"
   ]
  },
  {
   "cell_type": "code",
   "execution_count": 250,
   "id": "dce40b46",
   "metadata": {},
   "outputs": [
    {
     "name": "stdout",
     "output_type": "stream",
     "text": [
      "2\n",
      "5\n",
      "9\n",
      "16\n"
     ]
    }
   ],
   "source": [
    "n1 = Node(2)\n",
    "n2 = Node(5)\n",
    "n3 = Node(9)\n",
    "n4 = Node(16)\n",
    "\n",
    "n1.set_next_node(n2)\n",
    "n2.set_next_node(n3)\n",
    "n3.set_next_node(n4)\n",
    "\n",
    "list2 = Singly_linked_list(n1)\n",
    "\n",
    "list2.list_traversed()"
   ]
  },
  {
   "cell_type": "code",
   "execution_count": 251,
   "id": "f10e095f",
   "metadata": {},
   "outputs": [
    {
     "name": "stdout",
     "output_type": "stream",
     "text": [
      "1\n",
      "2\n",
      "3\n",
      "5\n",
      "8\n",
      "9\n",
      "15\n",
      "16\n"
     ]
    }
   ],
   "source": [
    "list3 = Singly_linked_list()\n",
    "list3.head_node = mergeLists(list1.head_node, list2.head_node)\n",
    "list3.list_traversed()"
   ]
  },
  {
   "cell_type": "markdown",
   "id": "8e51a6ee",
   "metadata": {},
   "source": [
    "2. Calculate the complexity\n",
    "\n",
    "**TIME**\n",
    "\n",
    "It is neccesary to assume the worst case. Let $n$ be the number of elements of one of the linked lists and $M$ be the number of elements of the other linked list. If the worst case happens, the method ```merge_Lists()``` will have to merge and compare each of the nodes that are part of both linked lists. **As a result, it will have time complexity $O(n+m)$.**\n",
    "\n",
    "**MEMORY**\n",
    "\n",
    "The size of both linked lists is goint to be the size of the memory that we need. As a result, **the memory complexity will also be $O(n+m)$**, given that the size of the linked lists is $n$ and $m$ respectively. "
   ]
  }
 ],
 "metadata": {
  "kernelspec": {
   "display_name": "Python 3 (ipykernel)",
   "language": "python",
   "name": "python3"
  },
  "language_info": {
   "codemirror_mode": {
    "name": "ipython",
    "version": 3
   },
   "file_extension": ".py",
   "mimetype": "text/x-python",
   "name": "python",
   "nbconvert_exporter": "python",
   "pygments_lexer": "ipython3",
   "version": "3.9.7"
  }
 },
 "nbformat": 4,
 "nbformat_minor": 5
}
