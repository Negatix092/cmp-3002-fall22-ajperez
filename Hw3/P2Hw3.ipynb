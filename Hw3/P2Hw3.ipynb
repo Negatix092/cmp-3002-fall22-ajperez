{
 "cells": [
  {
   "cell_type": "code",
   "execution_count": 1,
   "id": "1c3a4fe7",
   "metadata": {},
   "outputs": [],
   "source": [
    "import time\n",
    "import pandas as pd\n",
    "import numpy as np\n",
    "import matplotlib.pyplot as plt\n",
    "%matplotlib inline"
   ]
  },
  {
   "cell_type": "code",
   "execution_count": 2,
   "id": "22e805de",
   "metadata": {},
   "outputs": [],
   "source": [
    "from time import time\n",
    "\n",
    "def timer_func(func):\n",
    "    def wrap_func(*args, **kwargs):\n",
    "        t1 = time()*10**6\n",
    "        result = func(*args, **kwargs)\n",
    "        t2 = time()*10**6\n",
    "        print(f'Function {func.__name__!r} executed in {(t2-t1):.4f} micro seconds (10^-6)')\n",
    "        return result\n",
    "    #here the result of my function and the time elapsed between its stard and end points will be returned\n",
    "    return wrap_func #python decorators allow these to be used in other functions"
   ]
  },
  {
   "cell_type": "markdown",
   "id": "77efe558",
   "metadata": {},
   "source": [
    "# Homework 3 - Alex Perez - Data Structures\n",
    "\n",
    "## 2. Implement quick sort\n",
    "\n",
    "1. Use the divide and conquer technique to implement the quick sort algorithm studied in class."
   ]
  },
  {
   "cell_type": "code",
   "execution_count": null,
   "id": "f6894c33",
   "metadata": {},
   "outputs": [],
   "source": []
  }
 ],
 "metadata": {
  "kernelspec": {
   "display_name": "Python 3 (ipykernel)",
   "language": "python",
   "name": "python3"
  },
  "language_info": {
   "codemirror_mode": {
    "name": "ipython",
    "version": 3
   },
   "file_extension": ".py",
   "mimetype": "text/x-python",
   "name": "python",
   "nbconvert_exporter": "python",
   "pygments_lexer": "ipython3",
   "version": "3.9.7"
  }
 },
 "nbformat": 4,
 "nbformat_minor": 5
}
