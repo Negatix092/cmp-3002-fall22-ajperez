{
 "cells": [
  {
   "cell_type": "code",
   "execution_count": 21,
   "id": "1c3a4fe7",
   "metadata": {},
   "outputs": [],
   "source": [
    "import time\n",
    "import pandas as pd\n",
    "import numpy as np\n",
    "import matplotlib.pyplot as plt\n",
    "%matplotlib inline"
   ]
  },
  {
   "cell_type": "markdown",
   "id": "77efe558",
   "metadata": {},
   "source": [
    "# Homework 3 - Alex Perez - Data Structures\n",
    "\n",
    "## 2. Implement quick sort\n",
    "\n",
    "1. Use the divide and conquer technique to implement the quick sort algorithm studied in class."
   ]
  },
  {
   "cell_type": "code",
   "execution_count": 22,
   "id": "f6894c33",
   "metadata": {},
   "outputs": [],
   "source": [
    "def Quick_Sort(array):\n",
    "    if len(array) <= 1:\n",
    "        return array #easy case\n",
    "    \n",
    "    pivot = array.pop(0)#choosing first element as pivot\n",
    "    left_array = []#creating the subarrays to store elements\n",
    "    right_array = []#greater or smaller than the pivot\n",
    "    \n",
    "    for i in array:\n",
    "        if i <= pivot:\n",
    "            left_array.append(i)#element is smaller than the pivot\n",
    "        else:\n",
    "            right_array.append(i)#element is greater than the pivot\n",
    "            \n",
    "    #calling the function recursively and combining the result (concatenate)\n",
    "    return Quick_Sort(left_array) + [pivot] + Quick_Sort(right_array)"
   ]
  },
  {
   "cell_type": "code",
   "execution_count": 23,
   "id": "0347272e",
   "metadata": {},
   "outputs": [
    {
     "name": "stdout",
     "output_type": "stream",
     "text": [
      "[2, 4, 5, 7, 8, 11, 15, 27]\n"
     ]
    }
   ],
   "source": [
    "listC = [4,5,7,8,2,27,15,11]\n",
    "print(Quick_Sort(listC))"
   ]
  },
  {
   "cell_type": "markdown",
   "id": "f2e37c39",
   "metadata": {},
   "source": [
    "2. Use a couple of parragraphs to explain the steps of the divide and conquer approach:\n",
    "\n",
    "* how/where do you divide?\n",
    "\n",
    "The division of the big picture, the original array, happens after gettin the pivot. This pivot is the main gear that is going to decide where the elements of the original array are going to go: to the left or to the right, depending of its value when compared with the pivot.\n",
    "\n",
    "* where/what do you conquer?\n",
    "\n",
    "Once the division is done, we get two subarrays that are going to have much less elements, some of them are even going to be empty, and are going to have new pivots. Again, these pivot values allow the sort of the subarrays through the recursive call. Using recursion is possible to obtain a really small problem, where only 2 values are compared, and the sorting of them is easier than at the beginning.\n",
    "\n",
    "* how/what do you combine?\n",
    "\n",
    "The combine step, for this algorithm, is easier than the one studied in class. We just concatenate the subarrays, once sorted, with the pivot in between. This can be seen in the return statement, that is also making the recursive call of the function."
   ]
  },
  {
   "cell_type": "markdown",
   "id": "2033179e",
   "metadata": {},
   "source": [
    "3. Analyze complexity\n",
    "\n",
    "These step has already been donde in class and is goint to be divided in two parts: the complexity of the recursive call and the complexity of the sorting (the algorithm).\n",
    "\n",
    "Since the recursive call is helping us with the divide idea, we are going to get smaller and smaller subarrays. As analyzed in class, this recursive call has complexity $log(n)$.\n",
    "\n",
    "The sorting of the algorithm is going to compare each of the elements of the subarrays to the pivot. Assuming that the array has complexity $n$, the sorting will also have complexity $n$.\n",
    "\n",
    "The combining part is only going to be a single operationg, so its complexity is going to be constant.\n",
    "\n",
    "Finally, multiplying the complexities, we get that the rumtime complexity is $O(nlog(n))$\n"
   ]
  },
  {
   "cell_type": "code",
   "execution_count": null,
   "id": "26faf2f0",
   "metadata": {},
   "outputs": [],
   "source": []
  }
 ],
 "metadata": {
  "kernelspec": {
   "display_name": "Python 3 (ipykernel)",
   "language": "python",
   "name": "python3"
  },
  "language_info": {
   "codemirror_mode": {
    "name": "ipython",
    "version": 3
   },
   "file_extension": ".py",
   "mimetype": "text/x-python",
   "name": "python",
   "nbconvert_exporter": "python",
   "pygments_lexer": "ipython3",
   "version": "3.9.7"
  }
 },
 "nbformat": 4,
 "nbformat_minor": 5
}
