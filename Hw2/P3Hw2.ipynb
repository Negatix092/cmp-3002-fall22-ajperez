{
 "cells": [
  {
   "cell_type": "code",
   "execution_count": 1,
   "id": "2b8f2210",
   "metadata": {},
   "outputs": [],
   "source": [
    "import time\n",
    "import pandas as pd\n",
    "import numpy as np\n",
    "import matplotlib.pyplot as plt\n",
    "%matplotlib inline  "
   ]
  },
  {
   "cell_type": "code",
   "execution_count": 2,
   "id": "bf5c7e43",
   "metadata": {},
   "outputs": [],
   "source": [
    "from time import time\n",
    "\n",
    "def timer_func(func):\n",
    "    def wrap_func(*args, **kwargs):\n",
    "        t1 = time()*10**6\n",
    "        result = func(*args, **kwargs)\n",
    "        t2 = time()*10**6\n",
    "        return result, t2-t1\n",
    "    #here the result of my function and the time elapsed between its stard and end points will be returned\n",
    "    return wrap_func #python decorators allow these to be used in other functions"
   ]
  },
  {
   "cell_type": "markdown",
   "id": "b0457a46",
   "metadata": {},
   "source": [
    "# Homework 2 - Alex Perez - Data Structures\n",
    "\n",
    "## 3. Implement the class Queue using stacks\n",
    "\n",
    "* a. Analyze the runtime and memory complexity, and compare with what we implemented in class. \n",
    "\n",
    "* b. Implement a few test cases that would allow you to measure the difference in runtime of the ```dequeue``` method. (Hint: what is the worst case, so that dequeue of the stack implementation is greater than the implementation we did in class?)"
   ]
  },
  {
   "cell_type": "code",
   "execution_count": 20,
   "id": "09a5daf4",
   "metadata": {},
   "outputs": [],
   "source": [
    "import ctypes\n",
    "class Stack(object):\n",
    "    \"\"\"\n",
    "    Implementation of the stack data structure\n",
    "    \"\"\"\n",
    "\n",
    "    def __init__(self, n):\n",
    "        self.l = 0\n",
    "        self.n = n\n",
    "        self.stack = self._create_stack(self.n)        \n",
    "    \n",
    "    def _create_stack(self, n):\n",
    "        \"\"\"\n",
    "        Creates a new stack of capacity n\n",
    "        \"\"\"\n",
    "        return (n * ctypes.py_object)()\n",
    "    \n",
    "class Stack(Stack):\n",
    "    def push(self, item):\n",
    "        \"\"\"\n",
    "        Add new item to the stack\n",
    "        \"\"\"\n",
    "        if self.l == self.n:\n",
    "            raise ValueError(\"no more capacity\")\n",
    "        self.stack[self.l] = item\n",
    "        self.l += 1\n",
    "        \n",
    "    def pop(self):\n",
    "        \"\"\"\n",
    "        Remove an element from the stack\n",
    "        \"\"\"\n",
    "        # self.l = 0\n",
    "        # 0 is equivalent to False\n",
    "        # any number != 0 is True\n",
    "        if not self.l:\n",
    "            raise('stack is empty')\n",
    "        c = self.stack[self.l-1]\n",
    "        self.stack[self.l-1] = ctypes.py_object\n",
    "        self.l -= 1\n",
    "        return c\n",
    "    \n",
    "    def top(self):\n",
    "        \"\"\"\n",
    "        Show the top element of the stack\n",
    "        \"\"\"\n",
    "        return self.stack[self.l-1]\n",
    "    \n",
    "    def full(self):\n",
    "        \"\"\"\n",
    "        Is the stack full?\n",
    "        \"\"\"\n",
    "        return self.l == self.n\n",
    "        # if self.l == self.n:\n",
    "        #    return True\n",
    "        # return False\n",
    "\n",
    "    def empty(self):\n",
    "        \"\"\"\n",
    "        Is the stack empty?\n",
    "        \"\"\"\n",
    "        return self.l == 0\n",
    "        #if self.l == 0:\n",
    "        #    return True\n",
    "        #return False\n",
    "\n",
    "    def size(self):\n",
    "        \"\"\"\n",
    "        Return size of the stack\n",
    "        \"\"\"\n",
    "        return self.l"
   ]
  },
  {
   "cell_type": "code",
   "execution_count": 21,
   "id": "00823f54",
   "metadata": {},
   "outputs": [],
   "source": [
    "class Stacked_Queue(object):\n",
    "    \"\"\"\n",
    "    Implementation of the queue data structure\n",
    "    \"\"\"\n",
    "\n",
    "    def __init__(self, n):\n",
    "        self.l = 0\n",
    "        self.n = n #size and number of elements of queue\n",
    "        \n",
    "        #size of the enqueue stack, defined as stack1 in class\n",
    "        self.stack1_l = 0\n",
    "        #size of the dequeue stack, defined as stack2 in class\n",
    "        self.stack2_l = 0\n",
    "        \n",
    "        #creating the stack that is gonna be used for enqueue\n",
    "        self.stack1 = Stack(n)\n",
    "        #creating the stack that is gonna be used for dequeue\n",
    "        self.stack2 = Stack(n) \n",
    "        \n",
    "    @timer_func\n",
    "    def enqueue(self, item):\n",
    "        \n",
    "        if self.l == self.n:\n",
    "            raise ValueError(\"Queue is full\")\n",
    "            \n",
    "        else:\n",
    "            #enque method will use push method of class stack\n",
    "            self.stack1.push(item)\n",
    "            #size of stack1, used for enqueue operation, and size of queue is updated\n",
    "            self.stack1_l += 1\n",
    "            self.l += 1\n",
    "\n",
    "             #making sure that the rule FiFo is followed\n",
    "            if self.stack2_l == 0:\n",
    "\n",
    "                while self.stack1_l != 0:#while stack1_l != 0\n",
    "                    #pop & push methods are used to follow rule FiFo, where First in is always available\n",
    "                    self.stack2.push(self.stack1.pop())\n",
    "                    #keeping track of the number of elements in each stack\n",
    "                    self.stack1_l -= 1\n",
    "                    self.stack2_l += 1\n",
    "    \n",
    "    @timer_func\n",
    "    def dequeue(self):\n",
    "        \n",
    "        if self.l == 0:\n",
    "            raise ValueError(\"Queue is already empty\")\n",
    "        \n",
    "        elif self.stack2_l != 0:\n",
    "            \n",
    "            c = self.stack2.pop()\n",
    "            self.stack2_l -= 1\n",
    "            self.l -= 1\n",
    "            return c\n",
    "        \n",
    "            if self.stack2_l == 0:\n",
    "\n",
    "                while self.stack1_l != 0:#while stack1_l != 0\n",
    "                    #pop & push methods are used to follow rule FiFo, where First in is always available\n",
    "                    self.stack2.push(self.stack1.pop())\n",
    "                    #keeping track of the number of elements in each stack\n",
    "                    self.stack1_l -= 1\n",
    "                    self.stack2_l += 1\n",
    "\n",
    "                c = self.stack2.pop()\n",
    "                self.stack2_l -= 1\n",
    "                self.l -= 1\n",
    "                return c\n",
    "        \n",
    "    @timer_func\n",
    "    def first(self):\n",
    "        \"\"\"\n",
    "        Show the first element of the queue\n",
    "        \"\"\"\n",
    "        \n",
    "        if self.l == 0:\n",
    "            raise ValueError(\"Queue is empty\")\n",
    "            \n",
    "        \n",
    "        elif self.stack2_l != 0:\n",
    "            \n",
    "            return self.stack2.top()\n",
    "        \n",
    "        elif self.stack2_l == 0:\n",
    "            \n",
    "            while self.stack1_l != 0:#while stack1_l != 0\n",
    "                #pop & push methods are used to follow rule FiFo, where First in is always available\n",
    "                self.stack2.push(self.stack1.pop())\n",
    "                #keeping track of the number of elements in each stack\n",
    "                self.stack1_l -= 1\n",
    "                self.stack2_l += 1\n",
    "                \n",
    "            return self.stack2.top()\n",
    "            \n",
    "    \n",
    "    @timer_func\n",
    "    def full(self):\n",
    "        \"\"\"\n",
    "        Is the queue full?\n",
    "        \"\"\"\n",
    "        if self.l == self.n:\n",
    "            return True\n",
    "        return False\n",
    "    \n",
    "    @timer_func\n",
    "    def empty(self):\n",
    "        \"\"\"\n",
    "        Is the queue empty?\n",
    "        \"\"\"\n",
    "        if self.l == 0:\n",
    "            return True\n",
    "        return False\n",
    "\n",
    "    @timer_func\n",
    "    def size(self):\n",
    "        \"\"\"\n",
    "        Return size of the queue\n",
    "        \"\"\"\n",
    "        return self.l"
   ]
  },
  {
   "cell_type": "code",
   "execution_count": 22,
   "id": "26a0534c",
   "metadata": {},
   "outputs": [
    {
     "data": {
      "text/plain": [
       "(None, 6.0)"
      ]
     },
     "execution_count": 22,
     "metadata": {},
     "output_type": "execute_result"
    }
   ],
   "source": [
    "q = Stacked_Queue(6)\n",
    "q.enqueue(1)\n",
    "q.enqueue(2)\n",
    "q.enqueue(3)\n",
    "q.enqueue(4)\n",
    "q.enqueue(5)\n",
    "q.enqueue(6)\n",
    "\n",
    "# q = [1, 2, 3, 4, 5, 6]"
   ]
  },
  {
   "cell_type": "code",
   "execution_count": 23,
   "id": "82498006",
   "metadata": {},
   "outputs": [
    {
     "ename": "ValueError",
     "evalue": "Queue is full",
     "output_type": "error",
     "traceback": [
      "\u001b[0;31m---------------------------------------------------------------------------\u001b[0m",
      "\u001b[0;31mValueError\u001b[0m                                Traceback (most recent call last)",
      "\u001b[0;32m/var/folders/4k/1hk5lhhn44z5qbscz9vg1fsr0000gn/T/ipykernel_17487/3517070353.py\u001b[0m in \u001b[0;36m<module>\u001b[0;34m\u001b[0m\n\u001b[0;32m----> 1\u001b[0;31m \u001b[0mq\u001b[0m\u001b[0;34m.\u001b[0m\u001b[0menqueue\u001b[0m\u001b[0;34m(\u001b[0m\u001b[0;36m1\u001b[0m\u001b[0;34m)\u001b[0m\u001b[0;34m\u001b[0m\u001b[0;34m\u001b[0m\u001b[0m\n\u001b[0m",
      "\u001b[0;32m/var/folders/4k/1hk5lhhn44z5qbscz9vg1fsr0000gn/T/ipykernel_17487/2512297910.py\u001b[0m in \u001b[0;36mwrap_func\u001b[0;34m(*args, **kwargs)\u001b[0m\n\u001b[1;32m      4\u001b[0m     \u001b[0;32mdef\u001b[0m \u001b[0mwrap_func\u001b[0m\u001b[0;34m(\u001b[0m\u001b[0;34m*\u001b[0m\u001b[0margs\u001b[0m\u001b[0;34m,\u001b[0m \u001b[0;34m**\u001b[0m\u001b[0mkwargs\u001b[0m\u001b[0;34m)\u001b[0m\u001b[0;34m:\u001b[0m\u001b[0;34m\u001b[0m\u001b[0;34m\u001b[0m\u001b[0m\n\u001b[1;32m      5\u001b[0m         \u001b[0mt1\u001b[0m \u001b[0;34m=\u001b[0m \u001b[0mtime\u001b[0m\u001b[0;34m(\u001b[0m\u001b[0;34m)\u001b[0m\u001b[0;34m*\u001b[0m\u001b[0;36m10\u001b[0m\u001b[0;34m**\u001b[0m\u001b[0;36m6\u001b[0m\u001b[0;34m\u001b[0m\u001b[0;34m\u001b[0m\u001b[0m\n\u001b[0;32m----> 6\u001b[0;31m         \u001b[0mresult\u001b[0m \u001b[0;34m=\u001b[0m \u001b[0mfunc\u001b[0m\u001b[0;34m(\u001b[0m\u001b[0;34m*\u001b[0m\u001b[0margs\u001b[0m\u001b[0;34m,\u001b[0m \u001b[0;34m**\u001b[0m\u001b[0mkwargs\u001b[0m\u001b[0;34m)\u001b[0m\u001b[0;34m\u001b[0m\u001b[0;34m\u001b[0m\u001b[0m\n\u001b[0m\u001b[1;32m      7\u001b[0m         \u001b[0mt2\u001b[0m \u001b[0;34m=\u001b[0m \u001b[0mtime\u001b[0m\u001b[0;34m(\u001b[0m\u001b[0;34m)\u001b[0m\u001b[0;34m*\u001b[0m\u001b[0;36m10\u001b[0m\u001b[0;34m**\u001b[0m\u001b[0;36m6\u001b[0m\u001b[0;34m\u001b[0m\u001b[0;34m\u001b[0m\u001b[0m\n\u001b[1;32m      8\u001b[0m         \u001b[0;32mreturn\u001b[0m \u001b[0mresult\u001b[0m\u001b[0;34m,\u001b[0m \u001b[0mt2\u001b[0m\u001b[0;34m-\u001b[0m\u001b[0mt1\u001b[0m\u001b[0;34m\u001b[0m\u001b[0;34m\u001b[0m\u001b[0m\n",
      "\u001b[0;32m/var/folders/4k/1hk5lhhn44z5qbscz9vg1fsr0000gn/T/ipykernel_17487/2379960711.py\u001b[0m in \u001b[0;36menqueue\u001b[0;34m(self, item)\u001b[0m\n\u001b[1;32m     22\u001b[0m \u001b[0;34m\u001b[0m\u001b[0m\n\u001b[1;32m     23\u001b[0m         \u001b[0;32mif\u001b[0m \u001b[0mself\u001b[0m\u001b[0;34m.\u001b[0m\u001b[0ml\u001b[0m \u001b[0;34m==\u001b[0m \u001b[0mself\u001b[0m\u001b[0;34m.\u001b[0m\u001b[0mn\u001b[0m\u001b[0;34m:\u001b[0m\u001b[0;34m\u001b[0m\u001b[0;34m\u001b[0m\u001b[0m\n\u001b[0;32m---> 24\u001b[0;31m             \u001b[0;32mraise\u001b[0m \u001b[0mValueError\u001b[0m\u001b[0;34m(\u001b[0m\u001b[0;34m\"Queue is full\"\u001b[0m\u001b[0;34m)\u001b[0m\u001b[0;34m\u001b[0m\u001b[0;34m\u001b[0m\u001b[0m\n\u001b[0m\u001b[1;32m     25\u001b[0m \u001b[0;34m\u001b[0m\u001b[0m\n\u001b[1;32m     26\u001b[0m         \u001b[0;32melse\u001b[0m\u001b[0;34m:\u001b[0m\u001b[0;34m\u001b[0m\u001b[0;34m\u001b[0m\u001b[0m\n",
      "\u001b[0;31mValueError\u001b[0m: Queue is full"
     ]
    }
   ],
   "source": [
    "q.enqueue(1)"
   ]
  },
  {
   "cell_type": "code",
   "execution_count": 24,
   "id": "13bf8056",
   "metadata": {},
   "outputs": [
    {
     "data": {
      "text/plain": [
       "(True, 2.75)"
      ]
     },
     "execution_count": 24,
     "metadata": {},
     "output_type": "execute_result"
    }
   ],
   "source": [
    "q.full()"
   ]
  },
  {
   "cell_type": "code",
   "execution_count": 25,
   "id": "23fee538",
   "metadata": {},
   "outputs": [
    {
     "data": {
      "text/plain": [
       "(6, 5.25)"
      ]
     },
     "execution_count": 25,
     "metadata": {},
     "output_type": "execute_result"
    }
   ],
   "source": [
    "q.size()"
   ]
  },
  {
   "cell_type": "code",
   "execution_count": 26,
   "id": "72966154",
   "metadata": {},
   "outputs": [
    {
     "data": {
      "text/plain": [
       "(1, 19.75)"
      ]
     },
     "execution_count": 26,
     "metadata": {},
     "output_type": "execute_result"
    }
   ],
   "source": [
    "q.dequeue()"
   ]
  },
  {
   "cell_type": "code",
   "execution_count": 27,
   "id": "39cf8a50",
   "metadata": {},
   "outputs": [
    {
     "data": {
      "text/plain": [
       "(False, 5.0)"
      ]
     },
     "execution_count": 27,
     "metadata": {},
     "output_type": "execute_result"
    }
   ],
   "source": [
    "q.full()"
   ]
  },
  {
   "cell_type": "code",
   "execution_count": 28,
   "id": "f9b6d0a0",
   "metadata": {},
   "outputs": [
    {
     "data": {
      "text/plain": [
       "(5, 3.0)"
      ]
     },
     "execution_count": 28,
     "metadata": {},
     "output_type": "execute_result"
    }
   ],
   "source": [
    "q.size()"
   ]
  },
  {
   "cell_type": "code",
   "execution_count": 29,
   "id": "de9cf888",
   "metadata": {},
   "outputs": [
    {
     "data": {
      "text/plain": [
       "(None, 41.0)"
      ]
     },
     "execution_count": 29,
     "metadata": {},
     "output_type": "execute_result"
    }
   ],
   "source": [
    "q.enqueue(7)"
   ]
  },
  {
   "cell_type": "code",
   "execution_count": 30,
   "id": "29781272",
   "metadata": {},
   "outputs": [
    {
     "data": {
      "text/plain": [
       "(2, 30.25)"
      ]
     },
     "execution_count": 30,
     "metadata": {},
     "output_type": "execute_result"
    }
   ],
   "source": [
    "q.first()"
   ]
  },
  {
   "cell_type": "code",
   "execution_count": 31,
   "id": "749dfec5",
   "metadata": {},
   "outputs": [
    {
     "ename": "ValueError",
     "evalue": "Queue is full",
     "output_type": "error",
     "traceback": [
      "\u001b[0;31m---------------------------------------------------------------------------\u001b[0m",
      "\u001b[0;31mValueError\u001b[0m                                Traceback (most recent call last)",
      "\u001b[0;32m/var/folders/4k/1hk5lhhn44z5qbscz9vg1fsr0000gn/T/ipykernel_17487/1401283390.py\u001b[0m in \u001b[0;36m<module>\u001b[0;34m\u001b[0m\n\u001b[0;32m----> 1\u001b[0;31m \u001b[0mq\u001b[0m\u001b[0;34m.\u001b[0m\u001b[0menqueue\u001b[0m\u001b[0;34m(\u001b[0m\u001b[0;36m8\u001b[0m\u001b[0;34m)\u001b[0m\u001b[0;34m\u001b[0m\u001b[0;34m\u001b[0m\u001b[0m\n\u001b[0m",
      "\u001b[0;32m/var/folders/4k/1hk5lhhn44z5qbscz9vg1fsr0000gn/T/ipykernel_17487/2512297910.py\u001b[0m in \u001b[0;36mwrap_func\u001b[0;34m(*args, **kwargs)\u001b[0m\n\u001b[1;32m      4\u001b[0m     \u001b[0;32mdef\u001b[0m \u001b[0mwrap_func\u001b[0m\u001b[0;34m(\u001b[0m\u001b[0;34m*\u001b[0m\u001b[0margs\u001b[0m\u001b[0;34m,\u001b[0m \u001b[0;34m**\u001b[0m\u001b[0mkwargs\u001b[0m\u001b[0;34m)\u001b[0m\u001b[0;34m:\u001b[0m\u001b[0;34m\u001b[0m\u001b[0;34m\u001b[0m\u001b[0m\n\u001b[1;32m      5\u001b[0m         \u001b[0mt1\u001b[0m \u001b[0;34m=\u001b[0m \u001b[0mtime\u001b[0m\u001b[0;34m(\u001b[0m\u001b[0;34m)\u001b[0m\u001b[0;34m*\u001b[0m\u001b[0;36m10\u001b[0m\u001b[0;34m**\u001b[0m\u001b[0;36m6\u001b[0m\u001b[0;34m\u001b[0m\u001b[0;34m\u001b[0m\u001b[0m\n\u001b[0;32m----> 6\u001b[0;31m         \u001b[0mresult\u001b[0m \u001b[0;34m=\u001b[0m \u001b[0mfunc\u001b[0m\u001b[0;34m(\u001b[0m\u001b[0;34m*\u001b[0m\u001b[0margs\u001b[0m\u001b[0;34m,\u001b[0m \u001b[0;34m**\u001b[0m\u001b[0mkwargs\u001b[0m\u001b[0;34m)\u001b[0m\u001b[0;34m\u001b[0m\u001b[0;34m\u001b[0m\u001b[0m\n\u001b[0m\u001b[1;32m      7\u001b[0m         \u001b[0mt2\u001b[0m \u001b[0;34m=\u001b[0m \u001b[0mtime\u001b[0m\u001b[0;34m(\u001b[0m\u001b[0;34m)\u001b[0m\u001b[0;34m*\u001b[0m\u001b[0;36m10\u001b[0m\u001b[0;34m**\u001b[0m\u001b[0;36m6\u001b[0m\u001b[0;34m\u001b[0m\u001b[0;34m\u001b[0m\u001b[0m\n\u001b[1;32m      8\u001b[0m         \u001b[0;32mreturn\u001b[0m \u001b[0mresult\u001b[0m\u001b[0;34m,\u001b[0m \u001b[0mt2\u001b[0m\u001b[0;34m-\u001b[0m\u001b[0mt1\u001b[0m\u001b[0;34m\u001b[0m\u001b[0;34m\u001b[0m\u001b[0m\n",
      "\u001b[0;32m/var/folders/4k/1hk5lhhn44z5qbscz9vg1fsr0000gn/T/ipykernel_17487/2379960711.py\u001b[0m in \u001b[0;36menqueue\u001b[0;34m(self, item)\u001b[0m\n\u001b[1;32m     22\u001b[0m \u001b[0;34m\u001b[0m\u001b[0m\n\u001b[1;32m     23\u001b[0m         \u001b[0;32mif\u001b[0m \u001b[0mself\u001b[0m\u001b[0;34m.\u001b[0m\u001b[0ml\u001b[0m \u001b[0;34m==\u001b[0m \u001b[0mself\u001b[0m\u001b[0;34m.\u001b[0m\u001b[0mn\u001b[0m\u001b[0;34m:\u001b[0m\u001b[0;34m\u001b[0m\u001b[0;34m\u001b[0m\u001b[0m\n\u001b[0;32m---> 24\u001b[0;31m             \u001b[0;32mraise\u001b[0m \u001b[0mValueError\u001b[0m\u001b[0;34m(\u001b[0m\u001b[0;34m\"Queue is full\"\u001b[0m\u001b[0;34m)\u001b[0m\u001b[0;34m\u001b[0m\u001b[0;34m\u001b[0m\u001b[0m\n\u001b[0m\u001b[1;32m     25\u001b[0m \u001b[0;34m\u001b[0m\u001b[0m\n\u001b[1;32m     26\u001b[0m         \u001b[0;32melse\u001b[0m\u001b[0;34m:\u001b[0m\u001b[0;34m\u001b[0m\u001b[0;34m\u001b[0m\u001b[0m\n",
      "\u001b[0;31mValueError\u001b[0m: Queue is full"
     ]
    }
   ],
   "source": [
    "q.enqueue(8)"
   ]
  },
  {
   "cell_type": "markdown",
   "id": "eacfb851",
   "metadata": {},
   "source": [
    "### a. Analyze the runtime and memory complexity, and compare with what we implemented in class. \n",
    "\n",
    "**Runtime**\n",
    "\n",
    "The runtime of this implementation should be analyzed for each method:\n",
    "\n",
    "* **Method Enqueue:** This operation takes $O(1)$ time complexity, since the ```push()``` method of class ```Stack``` is used.\n",
    "* **Method Dequeue:** the worst case has to be considered. This is the case where we want $n$ **consecutive enqueues and then** $n$ **consecutive dequeues**. Operation enqueue takes $O(1)$ time complexity, which can be seen as push. In this case where the first $n$ operations were enqueues and the next $n$ operations are gonna be dequeues, the whole ```stack1``` is gonna be transfered to ```stack2```, making $n$ more pushes, each of complexity $O(1)$. After this, $n$ dequeues will happen, which can be seen as pops and have complexity $O(1)$. Because of this, the runtime of the worst case is gonna be $O(3n) \\approx O(n)$ as seen in class. \n",
    "* **Method First:** for this method the same considerations of the method Dequeue have to be considered. So, the runtime will be $O(3n) \\approx O(n)$ too."
   ]
  },
  {
   "cell_type": "code",
   "execution_count": null,
   "id": "977fe13c",
   "metadata": {},
   "outputs": [],
   "source": []
  }
 ],
 "metadata": {
  "kernelspec": {
   "display_name": "Python 3 (ipykernel)",
   "language": "python",
   "name": "python3"
  },
  "language_info": {
   "codemirror_mode": {
    "name": "ipython",
    "version": 3
   },
   "file_extension": ".py",
   "mimetype": "text/x-python",
   "name": "python",
   "nbconvert_exporter": "python",
   "pygments_lexer": "ipython3",
   "version": "3.9.7"
  }
 },
 "nbformat": 4,
 "nbformat_minor": 5
}
