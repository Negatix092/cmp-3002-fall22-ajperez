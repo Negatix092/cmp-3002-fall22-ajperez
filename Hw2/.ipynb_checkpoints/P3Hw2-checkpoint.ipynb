{
 "cells": [
  {
   "cell_type": "code",
   "execution_count": 2,
   "id": "2b8f2210",
   "metadata": {},
   "outputs": [],
   "source": [
    "import time\n",
    "import pandas as pd\n",
    "import numpy as np\n",
    "import matplotlib.pyplot as plt\n",
    "%matplotlib inline  "
   ]
  },
  {
   "cell_type": "markdown",
   "id": "b0457a46",
   "metadata": {},
   "source": [
    "# Homework 2 - Alex Perez - Data Structures\n",
    "\n",
    "## 3. Implement the class Queue using stacks\n",
    "\n",
    "* a. Analyze the runtime and memory complexity, and compare with what we implemented in class. \n",
    "\n",
    "* b. Implement a few test cases that would allow you to measure the difference in runtime of the ```dequeue``` method. (Hint: what is the worst case, so that dequeue of the stack implementation is greater than the implementation we did in class?)"
   ]
  },
  {
   "cell_type": "code",
   "execution_count": null,
   "id": "09a5daf4",
   "metadata": {},
   "outputs": [],
   "source": []
  }
 ],
 "metadata": {
  "kernelspec": {
   "display_name": "Python 3 (ipykernel)",
   "language": "python",
   "name": "python3"
  },
  "language_info": {
   "codemirror_mode": {
    "name": "ipython",
    "version": 3
   },
   "file_extension": ".py",
   "mimetype": "text/x-python",
   "name": "python",
   "nbconvert_exporter": "python",
   "pygments_lexer": "ipython3",
   "version": "3.9.7"
  }
 },
 "nbformat": 4,
 "nbformat_minor": 5
}
