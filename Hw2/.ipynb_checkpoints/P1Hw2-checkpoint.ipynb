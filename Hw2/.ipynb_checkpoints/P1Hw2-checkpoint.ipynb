{
 "cells": [
  {
   "cell_type": "code",
   "execution_count": 1,
   "id": "ddf03fec",
   "metadata": {},
   "outputs": [],
   "source": [
    "import time\n",
    "import pandas as pd\n",
    "import numpy as np\n",
    "import matplotlib.pyplot as plt\n",
    "%matplotlib inline  "
   ]
  },
  {
   "cell_type": "code",
   "execution_count": 2,
   "id": "098dc072",
   "metadata": {},
   "outputs": [],
   "source": [
    "from time import time\n",
    "\n",
    "def timer_func(func):\n",
    "    def wrap_func(*args, **kwargs):\n",
    "        t1 = time()*10**6\n",
    "        result = func(*args, **kwargs)\n",
    "        t2 = time()*10**6\n",
    "        return result, t2-t1\n",
    "    #here the result of my function and the time elapsed between its stard and end points will be returned\n",
    "    return wrap_func #python decorators allow these to be used in other functions"
   ]
  },
  {
   "cell_type": "markdown",
   "id": "1d2b5fb9",
   "metadata": {},
   "source": [
    "# Homework 2 - Alex Perez - Data Structures\n",
    "\n",
    "## 1. Implement the class ```Stacks``` and all its methods using singly linked lists. Analyze the runtime and memory complexity, and compare with what we studied in class"
   ]
  },
  {
   "cell_type": "code",
   "execution_count": 31,
   "id": "9d02cae8",
   "metadata": {},
   "outputs": [],
   "source": [
    "class Node:\n",
    "    #implementation of a node\n",
    "    def __init__(self, val=None):\n",
    "        self.val = val\n",
    "        self.next_node = None\n",
    "        \n",
    "    def set_next_node(self, next_node):\n",
    "        self.next_node = next_node\n",
    "        \n",
    "class Singly_Linked_Stack:\n",
    "    \n",
    "    #implementation of a stack using singly linked lists\n",
    "    \n",
    "    def __init__(self,n):\n",
    "        #here the length and the head of the stack are defined \n",
    "        self.head_node = None\n",
    "        self.l = 0\n",
    "        #size of the stack\n",
    "        self.n = n\n",
    "    \n",
    "    @timer_func\n",
    "    def push(self,item):\n",
    "        \n",
    "        #push method is defined to add a new item to the stack\n",
    "        \n",
    "        #condition that checks if making a push will be possible\n",
    "        if self.l == self.n:\n",
    "            raise ValueError(\"No more capacity\")\n",
    "        \n",
    "        #item is linked to the previous head of the stack\n",
    "        item.set_next_node(self.head_node)\n",
    "        #item is defined as the new head of the stack\n",
    "        self.head_node = item \n",
    "        #size of the stack increases by 1, because of new item\n",
    "        self.l += 1 \n",
    "    \n",
    "    @timer_func\n",
    "    def pop(self):#pop method is defined to remove an item from the stack\n",
    "        \n",
    "        #condition that checks if the stack is already empty\n",
    "        if self.l == 0:\n",
    "            raise ValueError(\"Stack is empty\")\n",
    "            \n",
    "        #the head of the stack, following LiFo rule\n",
    "        pop_value = self.head_node.val\n",
    "        #the second element in the stack becomes the new head\n",
    "        self.head_node = self.head_node.next_node\n",
    "        #size of the stack decreases by 1\n",
    "        self.l -= 1\n",
    "        return pop_value\n",
    "        \n",
    "    @timer_func\n",
    "    def top(self):#method that shows the top element of the stack\n",
    "        return self.head_node.val\n",
    "    \n",
    "    @timer_func\n",
    "    def full(self):#method that checks if the stack is full\n",
    "        return self.l == self.n\n",
    "    \n",
    "    @timer_func\n",
    "    def empty(self):#method that checks if the stack is empty\n",
    "        return self.l == 0\n",
    "    \n",
    "    @timer_func\n",
    "    def size(self):#method that returns the size of the stack\n",
    "        return self.l\n",
    "    \n",
    "    def linked_stack_traversed(self):\n",
    "        node = self.head_node\n",
    "        while node:\n",
    "            print(node.val)\n",
    "            node = node.next_node"
   ]
  },
  {
   "cell_type": "code",
   "execution_count": 32,
   "id": "1efcb842",
   "metadata": {},
   "outputs": [],
   "source": [
    "S = Singly_Linked_Stack(5)"
   ]
  },
  {
   "cell_type": "code",
   "execution_count": 33,
   "id": "26d69597",
   "metadata": {},
   "outputs": [
    {
     "data": {
      "text/plain": [
       "(None, 4.0)"
      ]
     },
     "execution_count": 33,
     "metadata": {},
     "output_type": "execute_result"
    }
   ],
   "source": [
    "S.push(Node(1))\n",
    "S.push(Node(2))\n",
    "S.push(Node(4))\n",
    "S.push(Node(-1))"
   ]
  },
  {
   "cell_type": "code",
   "execution_count": 34,
   "id": "d0e5fb94",
   "metadata": {},
   "outputs": [
    {
     "data": {
      "text/plain": [
       "(4, 3.0)"
      ]
     },
     "execution_count": 34,
     "metadata": {},
     "output_type": "execute_result"
    }
   ],
   "source": [
    "S.size()"
   ]
  },
  {
   "cell_type": "code",
   "execution_count": 35,
   "id": "4029c532",
   "metadata": {},
   "outputs": [
    {
     "name": "stdout",
     "output_type": "stream",
     "text": [
      "-1\n",
      "4\n",
      "2\n",
      "1\n"
     ]
    }
   ],
   "source": [
    "S.linked_stack_traversed()"
   ]
  },
  {
   "cell_type": "code",
   "execution_count": 36,
   "id": "df72e1ed",
   "metadata": {},
   "outputs": [
    {
     "data": {
      "text/plain": [
       "(False, 2.75)"
      ]
     },
     "execution_count": 36,
     "metadata": {},
     "output_type": "execute_result"
    }
   ],
   "source": [
    "S.empty()"
   ]
  },
  {
   "cell_type": "code",
   "execution_count": 37,
   "id": "9625a235",
   "metadata": {},
   "outputs": [
    {
     "data": {
      "text/plain": [
       "(False, 3.0)"
      ]
     },
     "execution_count": 37,
     "metadata": {},
     "output_type": "execute_result"
    }
   ],
   "source": [
    "S.full()"
   ]
  },
  {
   "cell_type": "code",
   "execution_count": 38,
   "id": "549739f1",
   "metadata": {},
   "outputs": [
    {
     "data": {
      "text/plain": [
       "(-1, 6.25)"
      ]
     },
     "execution_count": 38,
     "metadata": {},
     "output_type": "execute_result"
    }
   ],
   "source": [
    "S.pop()"
   ]
  },
  {
   "cell_type": "code",
   "execution_count": 39,
   "id": "020a6e77",
   "metadata": {},
   "outputs": [
    {
     "name": "stdout",
     "output_type": "stream",
     "text": [
      "4\n",
      "2\n",
      "1\n"
     ]
    }
   ],
   "source": [
    "S.linked_stack_traversed()"
   ]
  },
  {
   "cell_type": "code",
   "execution_count": 40,
   "id": "9ec03a4c",
   "metadata": {},
   "outputs": [
    {
     "data": {
      "text/plain": [
       "(3, 2.75)"
      ]
     },
     "execution_count": 40,
     "metadata": {},
     "output_type": "execute_result"
    }
   ],
   "source": [
    "S.size()"
   ]
  },
  {
   "cell_type": "code",
   "execution_count": 41,
   "id": "ef71073b",
   "metadata": {},
   "outputs": [
    {
     "data": {
      "text/plain": [
       "(False, 3.0)"
      ]
     },
     "execution_count": 41,
     "metadata": {},
     "output_type": "execute_result"
    }
   ],
   "source": [
    "S.empty()"
   ]
  },
  {
   "cell_type": "code",
   "execution_count": 42,
   "id": "b4f24c14",
   "metadata": {},
   "outputs": [
    {
     "data": {
      "text/plain": [
       "(False, 6.0)"
      ]
     },
     "execution_count": 42,
     "metadata": {},
     "output_type": "execute_result"
    }
   ],
   "source": [
    "S.full()"
   ]
  },
  {
   "cell_type": "code",
   "execution_count": 43,
   "id": "63ff2fd4",
   "metadata": {},
   "outputs": [
    {
     "data": {
      "text/plain": [
       "(None, 2.0)"
      ]
     },
     "execution_count": 43,
     "metadata": {},
     "output_type": "execute_result"
    }
   ],
   "source": [
    "S.push(Node(34))\n",
    "S.push(Node(7))"
   ]
  },
  {
   "cell_type": "code",
   "execution_count": 44,
   "id": "54275062",
   "metadata": {},
   "outputs": [
    {
     "name": "stdout",
     "output_type": "stream",
     "text": [
      "7\n",
      "34\n",
      "4\n",
      "2\n",
      "1\n"
     ]
    }
   ],
   "source": [
    "S.linked_stack_traversed()"
   ]
  },
  {
   "cell_type": "code",
   "execution_count": 45,
   "id": "bcb68329",
   "metadata": {},
   "outputs": [
    {
     "data": {
      "text/plain": [
       "(False, 2.25)"
      ]
     },
     "execution_count": 45,
     "metadata": {},
     "output_type": "execute_result"
    }
   ],
   "source": [
    "S.empty()"
   ]
  },
  {
   "cell_type": "code",
   "execution_count": 46,
   "id": "ea00c42a",
   "metadata": {},
   "outputs": [
    {
     "data": {
      "text/plain": [
       "(True, 3.0)"
      ]
     },
     "execution_count": 46,
     "metadata": {},
     "output_type": "execute_result"
    }
   ],
   "source": [
    "S.full()"
   ]
  },
  {
   "cell_type": "code",
   "execution_count": 47,
   "id": "790add09",
   "metadata": {},
   "outputs": [
    {
     "data": {
      "text/plain": [
       "(7, 7.0)"
      ]
     },
     "execution_count": 47,
     "metadata": {},
     "output_type": "execute_result"
    }
   ],
   "source": [
    "S.top()"
   ]
  },
  {
   "cell_type": "code",
   "execution_count": 48,
   "id": "87a97b6a",
   "metadata": {},
   "outputs": [
    {
     "name": "stdout",
     "output_type": "stream",
     "text": [
      "7\n",
      "34\n",
      "4\n",
      "2\n",
      "1\n"
     ]
    }
   ],
   "source": [
    "S.linked_stack_traversed()"
   ]
  },
  {
   "cell_type": "code",
   "execution_count": 49,
   "id": "83d5b799",
   "metadata": {},
   "outputs": [
    {
     "data": {
      "text/plain": [
       "(7, 6.25)"
      ]
     },
     "execution_count": 49,
     "metadata": {},
     "output_type": "execute_result"
    }
   ],
   "source": [
    "S.pop()"
   ]
  },
  {
   "cell_type": "code",
   "execution_count": 50,
   "id": "770110e3",
   "metadata": {},
   "outputs": [
    {
     "name": "stdout",
     "output_type": "stream",
     "text": [
      "34\n",
      "4\n",
      "2\n",
      "1\n"
     ]
    }
   ],
   "source": [
    "S.linked_stack_traversed()"
   ]
  },
  {
   "cell_type": "code",
   "execution_count": 51,
   "id": "73945587",
   "metadata": {},
   "outputs": [
    {
     "data": {
      "text/plain": [
       "(False, 3.75)"
      ]
     },
     "execution_count": 51,
     "metadata": {},
     "output_type": "execute_result"
    }
   ],
   "source": [
    "S.full()"
   ]
  },
  {
   "cell_type": "markdown",
   "id": "308f3b65",
   "metadata": {},
   "source": [
    "## Runtime \n",
    "\n",
    "The methods to be considered and that are going to be analyzed are:\n",
    "\n",
    "  * push(Node(item)) \n",
    "  * pop()\n",
    "  * top()\n",
    "  * full()\n",
    "  * empty()\n",
    "  * size()\n",
    "\n",
    "These methods can be considered as operations. Eventhough the class ```Stack``` was implemented using singly linked list idea, the runtime of all operations of the class ```Stack``` will be O(1), the same result that we obtained in class. This is because of following the rule LiFo for the operations **push(), pop() and top()**. \n",
    "\n",
    "For the case of the operations **full(), empty() and size()**, a simple return is being used with no iteration or any complex operation, so the result will be O(1) too as seen in class. \n",
    "\n",
    "## Memory Complexity \n",
    "\n",
    "\n",
    "For this matter, we should consider the worst case, that is where we have not 1 or 2 but n elements that we need to push into the stack. For this reason, memory complexity will be O(n), where n is the number of elements to be stacked. "
   ]
  },
  {
   "cell_type": "markdown",
   "id": "37ba0ff9",
   "metadata": {},
   "source": [
    "**Note:** the method **linked_stack_traversed()** is not considered in this analysis since it was only declared and used as a way of being able to check the resolution of the problem. But, its runtime will be O(n), the same as the one obtained in class for the case of single linked lists."
   ]
  },
  {
   "cell_type": "code",
   "execution_count": null,
   "id": "e4fc02e7",
   "metadata": {},
   "outputs": [],
   "source": []
  }
 ],
 "metadata": {
  "kernelspec": {
   "display_name": "Python 3 (ipykernel)",
   "language": "python",
   "name": "python3"
  },
  "language_info": {
   "codemirror_mode": {
    "name": "ipython",
    "version": 3
   },
   "file_extension": ".py",
   "mimetype": "text/x-python",
   "name": "python",
   "nbconvert_exporter": "python",
   "pygments_lexer": "ipython3",
   "version": "3.9.7"
  }
 },
 "nbformat": 4,
 "nbformat_minor": 5
}
