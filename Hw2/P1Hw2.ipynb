{
 "cells": [
  {
   "cell_type": "code",
   "execution_count": 34,
   "id": "ddf03fec",
   "metadata": {},
   "outputs": [],
   "source": [
    "import time\n",
    "import pandas as pd\n",
    "import numpy as np\n",
    "import matplotlib.pyplot as plt\n",
    "%matplotlib inline  "
   ]
  },
  {
   "cell_type": "markdown",
   "id": "1d2b5fb9",
   "metadata": {},
   "source": [
    "# Homework 2 - Alex Perez - Data Structures\n",
    "\n",
    "## 1. Implement the class ```Stacks``` and all its methods using singly linked lists. Analyze the runtime and memory complexity, and compare with what we studied in class"
   ]
  },
  {
   "cell_type": "code",
   "execution_count": 1,
   "id": "9d02cae8",
   "metadata": {},
   "outputs": [],
   "source": [
    "class Node:\n",
    "    #implementation of a node\n",
    "    def __init__(self, val=None):\n",
    "        self.val = val\n",
    "        self.next_node = None\n",
    "        \n",
    "    def set_next_node(self, next_node):\n",
    "        self.next_node = next_node\n",
    "        \n",
    "class Singly_Linked_Stack:\n",
    "    \n",
    "    #implementation of a stack using singly linked lists\n",
    "    \n",
    "    def __init__(self,n):\n",
    "        #here the length and the head of the stack are defined \n",
    "        self.head_node = None\n",
    "        self.l = 0\n",
    "        self.n = n\n",
    "    \n",
    "    def push(self,item):\n",
    "        \n",
    "        #push method is defined to add a new item to the stack\n",
    "        #condition that checks if making a push will be possible\n",
    "        if self.l == self.n:\n",
    "            raise ValueError(\"No more capacity\")\n",
    "        \n",
    "        #item is linked to the previous head of the stack\n",
    "        item.set_next_node(self.head_node)\n",
    "        #item is defined as the new head of the stack\n",
    "        self.head_node = item \n",
    "        #size of the stack increases by 1, because of new item\n",
    "        self.l += 1 \n",
    "        \n",
    "    def pop(self):#pop method is defined to remove an item from the stack\n",
    "        \n",
    "        #condition that checks if the stack is already empty\n",
    "        if self.l == 0:\n",
    "            raise ValueError(\"Stack is empty\")\n",
    "            \n",
    "        #the head of the stack, following LiFo rule\n",
    "        pop_value = self.head_node.val\n",
    "        #the second element in the stack becomes the new head\n",
    "        self.head_node = self.head_node.next_node\n",
    "        #size of the stack decreases by 1\n",
    "        self.l -= 1\n",
    "        return pop_value\n",
    "        \n",
    "    def top(self):#method that shows the top element of the stack\n",
    "        return self.head_node.val\n",
    "    \n",
    "    def full(self):#method that checks if the stack is full\n",
    "        return self.l == self.n\n",
    "    \n",
    "    def empty(self):#method that checks if the stack is empty\n",
    "        return self.l == 0\n",
    "    \n",
    "    def size(self):#method that returns the size of the stack\n",
    "        return self.l\n",
    "    \n",
    "    def linked_stack_traversed(self):\n",
    "        node = self.head_node\n",
    "        while node:\n",
    "            print(node.val)\n",
    "            node = node.next_node"
   ]
  },
  {
   "cell_type": "code",
   "execution_count": 5,
   "id": "1efcb842",
   "metadata": {},
   "outputs": [],
   "source": [
    "S = Singly_Linked_Stack(5)"
   ]
  },
  {
   "cell_type": "code",
   "execution_count": 6,
   "id": "26d69597",
   "metadata": {},
   "outputs": [],
   "source": [
    "S.push(Node(1))\n",
    "S.push(Node(2))\n",
    "S.push(Node(4))\n",
    "S.push(Node(-1))"
   ]
  },
  {
   "cell_type": "code",
   "execution_count": 7,
   "id": "d0e5fb94",
   "metadata": {},
   "outputs": [
    {
     "data": {
      "text/plain": [
       "4"
      ]
     },
     "execution_count": 7,
     "metadata": {},
     "output_type": "execute_result"
    }
   ],
   "source": [
    "S.size()"
   ]
  },
  {
   "cell_type": "code",
   "execution_count": 8,
   "id": "4029c532",
   "metadata": {},
   "outputs": [
    {
     "name": "stdout",
     "output_type": "stream",
     "text": [
      "-1\n",
      "4\n",
      "2\n",
      "1\n"
     ]
    }
   ],
   "source": [
    "S.linked_stack_traversed()"
   ]
  },
  {
   "cell_type": "code",
   "execution_count": 9,
   "id": "df72e1ed",
   "metadata": {},
   "outputs": [
    {
     "data": {
      "text/plain": [
       "False"
      ]
     },
     "execution_count": 9,
     "metadata": {},
     "output_type": "execute_result"
    }
   ],
   "source": [
    "S.empty()"
   ]
  },
  {
   "cell_type": "code",
   "execution_count": 10,
   "id": "9625a235",
   "metadata": {},
   "outputs": [
    {
     "data": {
      "text/plain": [
       "False"
      ]
     },
     "execution_count": 10,
     "metadata": {},
     "output_type": "execute_result"
    }
   ],
   "source": [
    "S.full()"
   ]
  },
  {
   "cell_type": "code",
   "execution_count": 11,
   "id": "549739f1",
   "metadata": {},
   "outputs": [
    {
     "data": {
      "text/plain": [
       "-1"
      ]
     },
     "execution_count": 11,
     "metadata": {},
     "output_type": "execute_result"
    }
   ],
   "source": [
    "S.pop()"
   ]
  },
  {
   "cell_type": "code",
   "execution_count": 12,
   "id": "020a6e77",
   "metadata": {},
   "outputs": [
    {
     "name": "stdout",
     "output_type": "stream",
     "text": [
      "4\n",
      "2\n",
      "1\n"
     ]
    }
   ],
   "source": [
    "S.linked_stack_traversed()"
   ]
  },
  {
   "cell_type": "code",
   "execution_count": 13,
   "id": "9ec03a4c",
   "metadata": {},
   "outputs": [
    {
     "data": {
      "text/plain": [
       "3"
      ]
     },
     "execution_count": 13,
     "metadata": {},
     "output_type": "execute_result"
    }
   ],
   "source": [
    "S.size()"
   ]
  },
  {
   "cell_type": "code",
   "execution_count": 14,
   "id": "ef71073b",
   "metadata": {},
   "outputs": [
    {
     "data": {
      "text/plain": [
       "False"
      ]
     },
     "execution_count": 14,
     "metadata": {},
     "output_type": "execute_result"
    }
   ],
   "source": [
    "S.empty()"
   ]
  },
  {
   "cell_type": "code",
   "execution_count": 15,
   "id": "b4f24c14",
   "metadata": {},
   "outputs": [
    {
     "data": {
      "text/plain": [
       "False"
      ]
     },
     "execution_count": 15,
     "metadata": {},
     "output_type": "execute_result"
    }
   ],
   "source": [
    "S.full()"
   ]
  },
  {
   "cell_type": "code",
   "execution_count": 16,
   "id": "63ff2fd4",
   "metadata": {},
   "outputs": [],
   "source": [
    "S.push(Node(34))\n",
    "S.push(Node(7))"
   ]
  },
  {
   "cell_type": "code",
   "execution_count": 17,
   "id": "54275062",
   "metadata": {},
   "outputs": [
    {
     "name": "stdout",
     "output_type": "stream",
     "text": [
      "7\n",
      "34\n",
      "4\n",
      "2\n",
      "1\n"
     ]
    }
   ],
   "source": [
    "S.linked_stack_traversed()"
   ]
  },
  {
   "cell_type": "code",
   "execution_count": 18,
   "id": "bcb68329",
   "metadata": {},
   "outputs": [
    {
     "data": {
      "text/plain": [
       "False"
      ]
     },
     "execution_count": 18,
     "metadata": {},
     "output_type": "execute_result"
    }
   ],
   "source": [
    "S.empty()"
   ]
  },
  {
   "cell_type": "code",
   "execution_count": 19,
   "id": "ea00c42a",
   "metadata": {},
   "outputs": [
    {
     "data": {
      "text/plain": [
       "True"
      ]
     },
     "execution_count": 19,
     "metadata": {},
     "output_type": "execute_result"
    }
   ],
   "source": [
    "S.full()"
   ]
  },
  {
   "cell_type": "code",
   "execution_count": 20,
   "id": "790add09",
   "metadata": {},
   "outputs": [
    {
     "data": {
      "text/plain": [
       "7"
      ]
     },
     "execution_count": 20,
     "metadata": {},
     "output_type": "execute_result"
    }
   ],
   "source": [
    "S.top()"
   ]
  },
  {
   "cell_type": "code",
   "execution_count": 21,
   "id": "87a97b6a",
   "metadata": {},
   "outputs": [
    {
     "name": "stdout",
     "output_type": "stream",
     "text": [
      "7\n",
      "34\n",
      "4\n",
      "2\n",
      "1\n"
     ]
    }
   ],
   "source": [
    "S.linked_stack_traversed()"
   ]
  },
  {
   "cell_type": "code",
   "execution_count": 22,
   "id": "83d5b799",
   "metadata": {},
   "outputs": [
    {
     "data": {
      "text/plain": [
       "7"
      ]
     },
     "execution_count": 22,
     "metadata": {},
     "output_type": "execute_result"
    }
   ],
   "source": [
    "S.pop()"
   ]
  },
  {
   "cell_type": "code",
   "execution_count": 23,
   "id": "770110e3",
   "metadata": {},
   "outputs": [
    {
     "name": "stdout",
     "output_type": "stream",
     "text": [
      "34\n",
      "4\n",
      "2\n",
      "1\n"
     ]
    }
   ],
   "source": [
    "S.linked_stack_traversed()"
   ]
  },
  {
   "cell_type": "code",
   "execution_count": 24,
   "id": "73945587",
   "metadata": {},
   "outputs": [
    {
     "data": {
      "text/plain": [
       "False"
      ]
     },
     "execution_count": 24,
     "metadata": {},
     "output_type": "execute_result"
    }
   ],
   "source": [
    "S.full()"
   ]
  },
  {
   "cell_type": "code",
   "execution_count": null,
   "id": "73d3666a",
   "metadata": {},
   "outputs": [],
   "source": []
  }
 ],
 "metadata": {
  "kernelspec": {
   "display_name": "Python 3 (ipykernel)",
   "language": "python",
   "name": "python3"
  },
  "language_info": {
   "codemirror_mode": {
    "name": "ipython",
    "version": 3
   },
   "file_extension": ".py",
   "mimetype": "text/x-python",
   "name": "python",
   "nbconvert_exporter": "python",
   "pygments_lexer": "ipython3",
   "version": "3.9.7"
  }
 },
 "nbformat": 4,
 "nbformat_minor": 5
}
