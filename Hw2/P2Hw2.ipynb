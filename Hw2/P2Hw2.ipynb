{
 "cells": [
  {
   "cell_type": "code",
   "execution_count": 1,
   "id": "4cee43c8",
   "metadata": {},
   "outputs": [],
   "source": [
    "import time\n",
    "import pandas as pd\n",
    "import numpy as np\n",
    "import matplotlib.pyplot as plt\n",
    "%matplotlib inline  "
   ]
  },
  {
   "cell_type": "code",
   "execution_count": 2,
   "id": "194eb77b",
   "metadata": {},
   "outputs": [],
   "source": [
    "from time import time\n",
    "\n",
    "def timer_func(func):\n",
    "    def wrap_func(*args, **kwargs):\n",
    "        t1 = time()*10**6\n",
    "        result = func(*args, **kwargs)\n",
    "        t2 = time()*10**6\n",
    "        return result, t2-t1\n",
    "    #here the result of my function and the time elapsed between its stard and end points will be returned\n",
    "    return wrap_func #python decorators allow these to be used in other functions"
   ]
  },
  {
   "cell_type": "markdown",
   "id": "97bf4383",
   "metadata": {},
   "source": [
    "# Homework 2 - Alex Perez - Data Structures\n",
    "\n",
    "## 2. Write a method part of the linked list class that will reverse the linked list. Your implementation should visit each node in the list only one time, and should use $O(1)$ of extra memory"
   ]
  },
  {
   "cell_type": "code",
   "execution_count": 3,
   "id": "6f849c87",
   "metadata": {},
   "outputs": [],
   "source": [
    "class Node:\n",
    "    \"\"\"\n",
    "    Implementation of a node\n",
    "    \"\"\"\n",
    "    def __init__(self, val=None):\n",
    "        self.val = val\n",
    "        self.next_node = None\n",
    "    \n",
    "    def set_next_node(self, next_node):\n",
    "        self.next_node = next_node\n",
    "        \n",
    "class Singly_linked_list:\n",
    "    \"\"\"\n",
    "    Implementation of a singly linked list\n",
    "    \"\"\"\n",
    "    def __init__(self, head_node=None):\n",
    "        self.head_node = head_node\n",
    "        \n",
    "    def list_traversed(self):\n",
    "        node = self.head_node\n",
    "        while node:\n",
    "            print(node.val)\n",
    "            node = node.next_node\n",
    "            \n",
    "class Singly_linked_list(Singly_linked_list):\n",
    "    \n",
    "    @timer_func\n",
    "    def insert_head(self, new_node):\n",
    "        # insert to the head\n",
    "        # A -> B -> null\n",
    "        # R -> A -> B -> null \n",
    "        new_node.set_next_node(self.head_node)\n",
    "        self.head_node = new_node\n",
    "        \n",
    "    @timer_func\n",
    "    def insert_tail(self, new_node):\n",
    "        # insert to the tail\n",
    "        # A -> B -> null\n",
    "        # A -> B -> R -> null \n",
    "        node = self.head_node\n",
    "        prev = None\n",
    "        while node:\n",
    "            prev = node\n",
    "            node = node.next_node\n",
    "        prev.set_next_node(new_node)\n",
    "        \n",
    "    @timer_func\n",
    "    def insert_middle(self, new_node, value):\n",
    "        # insert in the middle\n",
    "        # A -> B -> C -> null\n",
    "        # A -> B -> R -> C -> null\n",
    "        node = self.head_node\n",
    "        while node.val != value:\n",
    "            node = node.next_node\n",
    "        if node:\n",
    "            new_node.set_next_node(node.next_node)\n",
    "            node.set_next_node(new_node)\n",
    "        else:\n",
    "            self.insert_tail(new_node)"
   ]
  },
  {
   "cell_type": "code",
   "execution_count": 4,
   "id": "7f7f7d98",
   "metadata": {},
   "outputs": [],
   "source": [
    "class Singly_linked_list(Singly_linked_list):\n",
    "    \n",
    "    @timer_func\n",
    "    def reverse_linked_list(self):\n",
    "            #the start is at the head of the linked list\n",
    "            node = self.head_node \n",
    "            #a none node is defined to connect it to the previous head\n",
    "            prev = None \n",
    "            #the linked list is traversed until it reaches its final node\n",
    "            while node: \n",
    "                #saving the next_node to not lose it when we reverse the list\n",
    "                next_node = node.next_node \n",
    "                #linking the previous head to null, making it the new last item in the resulting list\n",
    "                node.set_next_node(prev) \n",
    "                #moving forward in the original linked list\n",
    "                prev = node\n",
    "                node = next_node\n",
    "            #Finally, defining the new head of the reversed linked list\n",
    "            #which was the last item in the original linked list    \n",
    "            self.head_node = prev"
   ]
  },
  {
   "cell_type": "code",
   "execution_count": 8,
   "id": "f56c75b7",
   "metadata": {},
   "outputs": [
    {
     "name": "stdout",
     "output_type": "stream",
     "text": [
      "A\n",
      "B\n",
      "C\n",
      "D\n"
     ]
    }
   ],
   "source": [
    "m1 = Node(\"A\")\n",
    "m2 = Node(\"B\")\n",
    "m3 = Node(\"C\")\n",
    "m4 = Node(\"D\")\n",
    "\n",
    "m1.set_next_node(m2)\n",
    "m2.set_next_node(m3)\n",
    "m3.set_next_node(m4)\n",
    "\n",
    "list1 = Singly_linked_list(m1)\n",
    "\n",
    "list1.list_traversed()"
   ]
  },
  {
   "cell_type": "code",
   "execution_count": 9,
   "id": "cec5a3a1",
   "metadata": {},
   "outputs": [
    {
     "data": {
      "text/plain": [
       "(None, 11.25)"
      ]
     },
     "execution_count": 9,
     "metadata": {},
     "output_type": "execute_result"
    }
   ],
   "source": [
    "list1.reverse_linked_list()"
   ]
  },
  {
   "cell_type": "code",
   "execution_count": 10,
   "id": "83c74181",
   "metadata": {},
   "outputs": [
    {
     "name": "stdout",
     "output_type": "stream",
     "text": [
      "D\n",
      "C\n",
      "B\n",
      "A\n"
     ]
    }
   ],
   "source": [
    "list1.list_traversed()"
   ]
  },
  {
   "cell_type": "code",
   "execution_count": 11,
   "id": "ed378fe1",
   "metadata": {},
   "outputs": [
    {
     "data": {
      "text/plain": [
       "(None, 5.25)"
      ]
     },
     "execution_count": 11,
     "metadata": {},
     "output_type": "execute_result"
    }
   ],
   "source": [
    "m4 = Node(\"E\")\n",
    "list1.insert_head(m4)"
   ]
  },
  {
   "cell_type": "code",
   "execution_count": 12,
   "id": "91683806",
   "metadata": {},
   "outputs": [
    {
     "name": "stdout",
     "output_type": "stream",
     "text": [
      "E\n",
      "D\n",
      "C\n",
      "B\n",
      "A\n"
     ]
    }
   ],
   "source": [
    "list1.list_traversed()"
   ]
  },
  {
   "cell_type": "code",
   "execution_count": 13,
   "id": "9db90a83",
   "metadata": {},
   "outputs": [
    {
     "data": {
      "text/plain": [
       "(None, 11.0)"
      ]
     },
     "execution_count": 13,
     "metadata": {},
     "output_type": "execute_result"
    }
   ],
   "source": [
    "list1.reverse_linked_list()"
   ]
  },
  {
   "cell_type": "code",
   "execution_count": 14,
   "id": "f9ba3d60",
   "metadata": {},
   "outputs": [
    {
     "name": "stdout",
     "output_type": "stream",
     "text": [
      "A\n",
      "B\n",
      "C\n",
      "D\n",
      "E\n"
     ]
    }
   ],
   "source": [
    "list1.list_traversed()"
   ]
  },
  {
   "cell_type": "markdown",
   "id": "74040df5",
   "metadata": {},
   "source": [
    "## Analysis\n",
    "\n",
    "The method implemented, **reverse_linked_list()**, is supposed to fulfill two conditions:\n",
    "\n",
    "   * Visiting each node only one time\n",
    "   * Using only O(1) of extra memory\n",
    "\n",
    "This can be confirmed in its implementation, since the only extra memory used is the new None that is gonna be the end of the reversed singly linked list."
   ]
  },
  {
   "cell_type": "code",
   "execution_count": null,
   "id": "6fa125e1",
   "metadata": {},
   "outputs": [],
   "source": []
  }
 ],
 "metadata": {
  "kernelspec": {
   "display_name": "Python 3 (ipykernel)",
   "language": "python",
   "name": "python3"
  },
  "language_info": {
   "codemirror_mode": {
    "name": "ipython",
    "version": 3
   },
   "file_extension": ".py",
   "mimetype": "text/x-python",
   "name": "python",
   "nbconvert_exporter": "python",
   "pygments_lexer": "ipython3",
   "version": "3.9.7"
  }
 },
 "nbformat": 4,
 "nbformat_minor": 5
}
